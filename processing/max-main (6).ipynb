{
 "cells": [
  {
   "cell_type": "raw",
   "id": "832fa57c-dc2c-4e35-b042-47de14a27aec",
   "metadata": {},
   "source": [
    "Для создания системы рейтингования по ИНН можно использовать следующий алгоритм:\n",
    "\n",
    "1. Из файлов bo_balance.csv и bo_financial_results.csv получить данные о финансовом состоянии организаций, включая показатели прибыли, убытков, активов и обязательств.\n",
    "\n",
    "2. Из файла participation_statistic.csv получить данные о количестве участий поставщиков в процедурах и победах в рамках 44-ФЗ и 223-ФЗ.\n",
    "\n",
    "3. Из файла rnp.csv получить данные из Реестра недобросовестных поставщиков.\n",
    "\n",
    "4. Из файла egrul_info.csv получить данные об учредителях и руководителях организаций.\n",
    "\n",
    "5. Из файла complaint_info.csv получить данные о жалобах по 44-ФЗ, в которых субъектом контроля выступает заказчик.\n",
    "\n",
    "6. Из файла contract_improper_execution.csv получить данные о ненадлежащем исполнении контрактов по 44-ФЗ.\n",
    "\n",
    "7. Из файла avg_staff_qty.csv получить данные о среднесписочной численности работников организации.\n",
    "\n",
    "8. На основе полученных данных вычислить показатели рейтинга для каждого ИНН, включая финансовую устойчивость, эффективность участия в государственных закупках, наличие проблем с законодательством и недобросовестностью, квалификацию учредителей и руководителей, уровень жалоб и ненадлежащего исполнения контрактов, среднесписочную численность работников.\n",
    "\n",
    "9. Оценить каждый показатель по шкале от 1 до 10 и вычислить общий рейтинг для каждого ИНН.\n",
    "\n",
    "10. Построить рейтинговую таблицу по ИНН с возможностью фильтрации и сортировки по разным показателям.\n",
    "\n",
    "Такая система рейтингования поможет заказчикам государственных закупок принимать более обоснованные решения при выборе поставщиков и минимизировать риски несоблюдения законодательства и недобросовестного поведения со стороны поставщиков."
   ]
  },
  {
   "cell_type": "raw",
   "id": "ff90d8d2-818c-4c38-b793-b80c7dfc50f1",
   "metadata": {},
   "source": [
    "прибыли, убытков, активов и обязательств"
   ]
  },
  {
   "cell_type": "code",
   "execution_count": 1,
   "id": "f618004e-ff3e-4915-9118-676f92e2f8d0",
   "metadata": {
    "tags": []
   },
   "outputs": [],
   "source": [
    "import glob\n",
    "import os\n",
    "from typing import Union\n",
    "from datetime import datetime\n",
    "\n",
    "import pandas as pd\n",
    "import numpy as np\n",
    "from tqdm.notebook import tqdm\n",
    "from omegaconf import OmegaConf"
   ]
  },
  {
   "cell_type": "code",
   "execution_count": 2,
   "id": "6210d382-4e0b-4cdf-a488-5cd0dad8152f",
   "metadata": {
    "tags": []
   },
   "outputs": [],
   "source": [
    "import copy\n",
    "\n",
    "def deep_copy(func):\n",
    "    def wrapper(*args, **kwargs):\n",
    "        args_copy = copy.deepcopy(args)\n",
    "        kwargs_copy = copy.deepcopy(kwargs)\n",
    "        return func(*args_copy, **kwargs_copy)\n",
    "    return wrapper"
   ]
  },
  {
   "cell_type": "code",
   "execution_count": 3,
   "id": "6cca4c93-dfe8-4bd3-998f-109b2cf9b87d",
   "metadata": {
    "tags": []
   },
   "outputs": [],
   "source": [
    "class DataObj:\n",
    "    def __init__(self, data_path: Union[str, os.PathLike]):\n",
    "        csv_paths = glob.glob(os.path.join(data_path, \"**\", \"*.csv\"))\n",
    "        self.data = {os.path.basename(path).split('.')[0]: pd.read_csv(path, sep=';') for path in tqdm(csv_paths)}\n",
    "        desc = pd.read_excel(glob.glob(os.path.join(data_path, \"*.xlsx\"))[0], sheet_name=None)\n",
    "        desc.pop('Перечень файлов')\n",
    "        self.desc = {key.split('.')[1]: desc[key] for key in desc}\n",
    "        assert self.data.keys() == self.desc.keys(), \"Keys must be equal\"\n",
    "        assert len(self.data.keys()) == 26, \"Keys length must equals 26\"\n",
    "        self._keys = list(self.desc.keys())\n",
    "        self._len = len(self._keys)\n",
    "\n",
    "    def keys(self):\n",
    "        return self._keys\n",
    "\n",
    "    def __len__(self):\n",
    "        return self._len\n",
    "\n",
    "    def __getitem__(self, idx):\n",
    "        return self._keys[idx]"
   ]
  },
  {
   "cell_type": "code",
   "execution_count": 4,
   "id": "d0b868d4-4c4a-4c33-8428-25fba41e4d1f",
   "metadata": {
    "tags": []
   },
   "outputs": [],
   "source": [
    "config = {\n",
    "    'seed':0xFACED,\n",
    "    'device':'cpu',\n",
    "    \n",
    "    'paths':{\n",
    "        'csv_path': './',\n",
    "        \n",
    "        'load_data': '', # /kaggle/input/base-data-with-features/base_data_with_features.csv\n",
    "        \n",
    "        'output_dir':'/content/',\n",
    "    },\n",
    "    \n",
    "    'data':{\n",
    "        'use_financial_features': True,\n",
    "        'financial_codes': [1200, 1400, 1500, 1250, 1230, 2100, 2110, 2200, 2300, 2400, 1600, 1150],\n",
    "        \n",
    "        'use_complaint_features': True,\n",
    "        'use_contract_features': True,\n",
    "        'use_other_features': True,\n",
    "        \n",
    "        'cat_features': ['okved_basic_code_x', 'okved_basic_code_y']\n",
    "    },\n",
    "    \n",
    "    'model':{\n",
    "        \n",
    "    }\n",
    "}\n",
    "\n",
    "config = OmegaConf.create(config)"
   ]
  },
  {
   "cell_type": "raw",
   "id": "225b073f-4cdd-4152-8b63-44f682c43188",
   "metadata": {},
   "source": [
    "Коэффициент текущей ликвидности = 1200/(1400+1500)\n",
    "Коэффициент быстрой ликвидности = (1250+1230)/(1400+1500)\n",
    "\n",
    "Валовая маржа = 2100/2110\n",
    "Операционная маржа = 2200/2110\n",
    "Маржа по прибыли до налогообложения = 2300/2110\n",
    "Чистая маржа = 2400/2110\n",
    "\n",
    "Коэффициент задолженности = (1400+1500)/1600\n",
    "\n",
    "Фондоотдача = 2110/1150\n",
    "\n",
    "оставляем коды: 1200, 1400, 1500, 1250, 1230, 2100, 2110, 2200, 2300, 2400, 1600, 1150"
   ]
  },
  {
   "cell_type": "code",
   "execution_count": 5,
   "id": "b6563eb6-1dea-453a-b508-1160ffbf2e02",
   "metadata": {
    "tags": []
   },
   "outputs": [
    {
     "data": {
      "application/vnd.jupyter.widget-view+json": {
       "model_id": "1c71466b81614b088f8b70422b0daf6e",
       "version_major": 2,
       "version_minor": 0
      },
      "text/plain": [
       "  0%|          | 0/26 [00:00<?, ?it/s]"
      ]
     },
     "metadata": {},
     "output_type": "display_data"
    },
    {
     "name": "stderr",
     "output_type": "stream",
     "text": [
      "/tmp/ipykernel_56830/2116100949.py:4: DtypeWarning: Columns (2) have mixed types. Specify dtype option on import or set low_memory=False.\n",
      "  self.data = {os.path.basename(path).split('.')[0]: pd.read_csv(path, sep=';') for path in tqdm(csv_paths)}\n",
      "/tmp/ipykernel_56830/2116100949.py:4: DtypeWarning: Columns (2) have mixed types. Specify dtype option on import or set low_memory=False.\n",
      "  self.data = {os.path.basename(path).split('.')[0]: pd.read_csv(path, sep=';') for path in tqdm(csv_paths)}\n",
      "/tmp/ipykernel_56830/2116100949.py:4: DtypeWarning: Columns (8) have mixed types. Specify dtype option on import or set low_memory=False.\n",
      "  self.data = {os.path.basename(path).split('.')[0]: pd.read_csv(path, sep=';') for path in tqdm(csv_paths)}\n"
     ]
    }
   ],
   "source": [
    "full_data = DataObj(config.paths.csv_path)"
   ]
  },
  {
   "cell_type": "code",
   "execution_count": 6,
   "id": "0d6762e7-0851-49a2-a2ee-b56f3532ae0e",
   "metadata": {
    "tags": []
   },
   "outputs": [],
   "source": [
    "full_data.data[\"contract_main_info\"] = full_data.data[\"contract_main_info\"].dropna(subset=[\"supplier_inn\"])"
   ]
  },
  {
   "cell_type": "code",
   "execution_count": 7,
   "id": "17d0e53a-0c37-41cc-b795-1921073be4b5",
   "metadata": {
    "tags": []
   },
   "outputs": [],
   "source": [
    "full_data.data[\"contract_main_info\"][\"supplier_inn\"] = full_data.data[\"contract_main_info\"][\"supplier_inn\"].astype(np.int64)"
   ]
  },
  {
   "cell_type": "code",
   "execution_count": 8,
   "id": "916ba620-095f-4992-9baf-5b233eb51dd8",
   "metadata": {
    "tags": []
   },
   "outputs": [],
   "source": [
    "def str_value2int(x):\n",
    "    x = str(x)\n",
    "    if '-' in x:\n",
    "        return 0\n",
    "    elif x == 'nan':\n",
    "        return 0\n",
    "    elif x.startswith('(') and x.endswith(')'):\n",
    "        return -int(x[1:-1])\n",
    "    else:\n",
    "        try:\n",
    "            return int(x)\n",
    "        except:\n",
    "            return 0"
   ]
  },
  {
   "cell_type": "code",
   "execution_count": 9,
   "id": "c7cf0ea3-7635-45c8-aa2f-97a9a6357065",
   "metadata": {
    "tags": []
   },
   "outputs": [],
   "source": [
    "def get_egrul_features(full_data):\n",
    "    egrul_info = copy.deepcopy(full_data.data[\"egrul_info\"])\n",
    "    egrul_info[\"termination\"] = ~egrul_info[\"termination_date\"].isna()\n",
    "    egrul_info[\"is_entity_person\"] = egrul_info[\"entity_wo_attorney_type\"] == \"Физическое лицо\"\n",
    "    egrul_info[\"delta_days\"] = (datetime.today() - pd.to_datetime(egrul_info[\"registration_date\"])).dt.days\n",
    "    egrul_info = egrul_info[[\"inn\", \"termination\", \"is_entity_person\", \"okved_basic_code\", \"delta_days\", \"has_filial\", \"capital_size\"]]\n",
    "    return egrul_info.set_index(\"inn\")"
   ]
  },
  {
   "cell_type": "code",
   "execution_count": 10,
   "id": "23a9ba93-0af7-4789-9041-cb6bce1087a8",
   "metadata": {
    "tags": []
   },
   "outputs": [],
   "source": [
    "def get_participation_features(full_data):\n",
    "    df = copy.deepcopy(full_data.data[\"participation_statistic\"])\n",
    "    df = df.pivot_table(index='participant_inn',\n",
    "                        columns='fz', values=['procedure_qty', 'win_qty'],\n",
    "                        aggfunc='sum', fill_value=0)\n",
    "    df.columns = [\"_\".join(col) for col in df.columns]\n",
    "    df.index.names = [\"inn\"]\n",
    "    return df"
   ]
  },
  {
   "cell_type": "code",
   "execution_count": 11,
   "id": "6a6329cf-4b6d-4815-8039-1e6989d1da1a",
   "metadata": {
    "tags": []
   },
   "outputs": [],
   "source": [
    "def get_bo_pivot(df, config):\n",
    "    df = df.loc[df[\"str_code\"].isin(config.data.financial_codes), [\"inn\", \"str_code\", \"str_value\"]]\\\n",
    "        .groupby([\"inn\", \"str_code\"]).agg([\"sum\"])[\"str_value\"]\n",
    "    df = df.reset_index()\n",
    "    pivot_df = df.pivot_table(index='inn', columns='str_code', values='sum', aggfunc='sum', fill_value=0)\n",
    "    pivot_df.columns = [f'str_code_{col}' for col in pivot_df.columns]\n",
    "    return pivot_df"
   ]
  },
  {
   "cell_type": "code",
   "execution_count": 12,
   "id": "6896ed2c-d1e2-478b-ae60-6627a70baef3",
   "metadata": {
    "tags": []
   },
   "outputs": [],
   "source": [
    "def get_financial_features(df):\n",
    "    # Коэффициент текущей ликвидности\n",
    "    df[\"current_liquid\"] = df[\"str_code_1200\"] / (df[\"str_code_1400\"] + df[\"str_code_1500\"])\n",
    "    \n",
    "    # Коэффициент быстрой ликвидности\n",
    "    df[\"quick_liquid\"] = (df[\"str_code_1250\"] + df[\"str_code_1230\"]) / (df[\"str_code_1400\"] + df[\"str_code_1500\"])\n",
    "    \n",
    "    # Валовая маржа\n",
    "    df[\"gross_margin\"] = df[\"str_code_2100\"] / df[\"str_code_2110\"]\n",
    "    \n",
    "    # Операционная маржа\n",
    "    df[\"operating_margin\"] = df[\"str_code_2200\"] / df[\"str_code_2110\"]\n",
    "    \n",
    "    # Маржа по прибыли до налогообложения\n",
    "    df[\"profit_before_tax_margin\"] = df[\"str_code_2300\"] / df[\"str_code_2110\"]\n",
    "    \n",
    "    # Чистая маржа\n",
    "    df[\"net_margin\"] = df[\"str_code_2400\"] / df[\"str_code_2110\"]\n",
    "    \n",
    "    # Коэффициент задолженности\n",
    "    df[\"debt_ratio\"] = (df[\"str_code_1400\"] + df[\"str_code_1500\"]) / df[\"str_code_1600\"]\n",
    "    \n",
    "    # Фондоотдача\n",
    "    df[\"asset_turnover\"] = df[\"str_code_2110\"] / df[\"str_code_1150\"]\n",
    "    \n",
    "    return df"
   ]
  },
  {
   "cell_type": "code",
   "execution_count": 13,
   "id": "4c6db531-09ac-4005-bc14-e0d4c1e7c8fd",
   "metadata": {},
   "outputs": [],
   "source": [
    "def get_contract_main_info_features(full_data):\n",
    "    df = copy.deepcopy(full_data.data[\"contract_main_info\"])\\\n",
    "                       .merge(copy.deepcopy(full_data.data[\"contract_termination\"]), how=\"left\", on=\"id_contract\")\n",
    "    df[\"is_termination\"] = ~df[\"t_termination_date\"].isna()\n",
    "    \n",
    "    info1 = df[[\"id_contract\", \"supplier_inn\"]].groupby(\"supplier_inn\").agg(\"count\")\n",
    "    info2 = df[[\"contract_price_rub\", \"supplier_inn\", \"is_termination\"]].groupby(\"supplier_inn\").agg(\"sum\")\n",
    "    \n",
    "    info = pd.concat([info1, info2], axis=1)\n",
    "    info.index.names = [\"inn\"]\n",
    "    return info"
   ]
  },
  {
   "cell_type": "code",
   "execution_count": 14,
   "id": "d09ec7d0-3cce-4cc7-ac48-17f08a80bd06",
   "metadata": {
    "tags": []
   },
   "outputs": [],
   "source": [
    "def get_egrip_features(full_data):\n",
    "    egrip_info = copy.deepcopy(full_data.data[\"egrip_info\"])\n",
    "    return egrip_info[[\"inn\", \"okved_basic_code\"]].set_index(\"inn\")"
   ]
  },
  {
   "cell_type": "code",
   "execution_count": 15,
   "id": "e5113ccf-b027-4c21-b036-08b18aaa87a4",
   "metadata": {
    "tags": []
   },
   "outputs": [],
   "source": [
    "def get_complaint_features(full_data):\n",
    "    df = copy.deepcopy(full_data.data[\"contract_main_info\"])\\\n",
    "            .merge(copy.deepcopy(full_data.data[\"complaint_info\"]),\n",
    "                   how=\"inner\", on=\"id_procedure\")\n",
    "    df = df[[\"supplier_inn\", \"status\", \"id_procedure\"]].groupby([\"supplier_inn\", \"status\"]).agg([\"count\"])\n",
    "    df.columns = [\"_\".join(col) for col in df.columns]\n",
    "    df = df.reset_index()\n",
    "    df = df.pivot_table(index='supplier_inn',\n",
    "                        columns='status', values=\"id_procedure_count\",\n",
    "                        aggfunc='sum', fill_value=0)\n",
    "    df.index.names = [\"inn\"]\n",
    "    return df"
   ]
  },
  {
   "cell_type": "code",
   "execution_count": 16,
   "id": "79ba7041-98ca-45c1-b94b-f99801d91d66",
   "metadata": {
    "tags": []
   },
   "outputs": [],
   "source": [
    "def get_bo_features(full_data):\n",
    "    bo_balance = copy.deepcopy(full_data.data[\"bo_balance\"]) # бухгалтерский баланс\n",
    "    bo_financial_results = copy.deepcopy(full_data.data[\"bo_financial_results\"]) # отчет о финансовых результатах\n",
    "    bo = pd.concat([bo_balance, bo_financial_results])\n",
    "    bo[\"str_value\"] = bo[\"str_value\"].apply(str_value2int)\n",
    "    bo[\"str_code\"] = bo[\"str_code\"].apply(lambda x: int(str(x).replace(\"*\", \"\")))\n",
    "\n",
    "    bo_pivot = get_bo_pivot(bo, config)\n",
    "    bo_pivot = get_financial_features(bo_pivot)\n",
    "    return bo_pivot"
   ]
  },
  {
   "cell_type": "code",
   "execution_count": 17,
   "id": "640c108b-97cd-4756-83fa-dada973b6ad3",
   "metadata": {},
   "outputs": [],
   "source": [
    "def get_avg_staff_qty_features(full_data):\n",
    "    return full_data.data[\"avg_staff_qty\"].set_index(\"inn\")"
   ]
  },
  {
   "cell_type": "code",
   "execution_count": 18,
   "id": "b32e3cd5-646a-49f3-9821-ddcbeb437d12",
   "metadata": {
    "tags": []
   },
   "outputs": [],
   "source": [
    "bo_features = get_bo_features(full_data)"
   ]
  },
  {
   "cell_type": "code",
   "execution_count": 19,
   "id": "3835c2cf-072b-4633-aed6-135907d1a04e",
   "metadata": {
    "tags": []
   },
   "outputs": [],
   "source": [
    "complaint_features = get_complaint_features(full_data)"
   ]
  },
  {
   "cell_type": "code",
   "execution_count": 20,
   "id": "151f36c3-4f70-4c89-a654-6faae3f8ce0d",
   "metadata": {
    "tags": []
   },
   "outputs": [],
   "source": [
    "egrul_features = get_egrul_features(full_data)"
   ]
  },
  {
   "cell_type": "code",
   "execution_count": 21,
   "id": "f342dbfd-715b-42ce-8a00-ac21d92357f3",
   "metadata": {
    "tags": []
   },
   "outputs": [],
   "source": [
    "participation_features = get_participation_features(full_data)"
   ]
  },
  {
   "cell_type": "code",
   "execution_count": 22,
   "id": "607bbe4e-1ef1-434e-b500-60ab3ea6dbb8",
   "metadata": {
    "tags": []
   },
   "outputs": [],
   "source": [
    "contract_main_info_features = get_contract_main_info_features(full_data)"
   ]
  },
  {
   "cell_type": "code",
   "execution_count": 23,
   "id": "d16f6164-d836-427f-91cf-ab83fe343e36",
   "metadata": {
    "tags": []
   },
   "outputs": [],
   "source": [
    "egrip_features = get_egrip_features(full_data)"
   ]
  },
  {
   "cell_type": "code",
   "execution_count": 24,
   "id": "d9ee59c9-adc7-4e13-9a6e-35191427f19d",
   "metadata": {
    "tags": []
   },
   "outputs": [],
   "source": [
    "complaint_features = get_complaint_features(full_data)"
   ]
  },
  {
   "cell_type": "code",
   "execution_count": 25,
   "id": "5e41e976-1cf4-4386-9994-aa9c6d877b5b",
   "metadata": {
    "tags": []
   },
   "outputs": [],
   "source": [
    "avg_staff_qty_features = get_avg_staff_qty_features(full_data)"
   ]
  },
  {
   "cell_type": "code",
   "execution_count": 26,
   "id": "efa8c18f-89aa-420b-b2d7-d58eba37091c",
   "metadata": {
    "tags": []
   },
   "outputs": [
    {
     "data": {
      "text/html": [
       "<div>\n",
       "<style scoped>\n",
       "    .dataframe tbody tr th:only-of-type {\n",
       "        vertical-align: middle;\n",
       "    }\n",
       "\n",
       "    .dataframe tbody tr th {\n",
       "        vertical-align: top;\n",
       "    }\n",
       "\n",
       "    .dataframe thead th {\n",
       "        text-align: right;\n",
       "    }\n",
       "</style>\n",
       "<table border=\"1\" class=\"dataframe\">\n",
       "  <thead>\n",
       "    <tr style=\"text-align: right;\">\n",
       "      <th></th>\n",
       "      <th>str_code_1150</th>\n",
       "      <th>str_code_1200</th>\n",
       "      <th>str_code_1230</th>\n",
       "      <th>str_code_1250</th>\n",
       "      <th>str_code_1400</th>\n",
       "      <th>str_code_1500</th>\n",
       "      <th>str_code_1600</th>\n",
       "      <th>str_code_2100</th>\n",
       "      <th>str_code_2110</th>\n",
       "      <th>str_code_2200</th>\n",
       "      <th>str_code_2300</th>\n",
       "      <th>str_code_2400</th>\n",
       "      <th>current_liquid</th>\n",
       "      <th>quick_liquid</th>\n",
       "      <th>gross_margin</th>\n",
       "      <th>operating_margin</th>\n",
       "      <th>profit_before_tax_margin</th>\n",
       "      <th>net_margin</th>\n",
       "      <th>debt_ratio</th>\n",
       "      <th>asset_turnover</th>\n",
       "    </tr>\n",
       "    <tr>\n",
       "      <th>inn</th>\n",
       "      <th></th>\n",
       "      <th></th>\n",
       "      <th></th>\n",
       "      <th></th>\n",
       "      <th></th>\n",
       "      <th></th>\n",
       "      <th></th>\n",
       "      <th></th>\n",
       "      <th></th>\n",
       "      <th></th>\n",
       "      <th></th>\n",
       "      <th></th>\n",
       "      <th></th>\n",
       "      <th></th>\n",
       "      <th></th>\n",
       "      <th></th>\n",
       "      <th></th>\n",
       "      <th></th>\n",
       "      <th></th>\n",
       "      <th></th>\n",
       "    </tr>\n",
       "  </thead>\n",
       "  <tbody>\n",
       "    <tr>\n",
       "      <th>101003907</th>\n",
       "      <td>6499</td>\n",
       "      <td>9708</td>\n",
       "      <td>1247</td>\n",
       "      <td>3692</td>\n",
       "      <td>0</td>\n",
       "      <td>5640</td>\n",
       "      <td>16207</td>\n",
       "      <td>-6297</td>\n",
       "      <td>46568</td>\n",
       "      <td>-6297</td>\n",
       "      <td>-6506</td>\n",
       "      <td>-6506</td>\n",
       "      <td>1.721277</td>\n",
       "      <td>0.875709</td>\n",
       "      <td>-0.135222</td>\n",
       "      <td>-0.135222</td>\n",
       "      <td>-0.13971</td>\n",
       "      <td>-0.13971</td>\n",
       "      <td>0.347998</td>\n",
       "      <td>7.16541</td>\n",
       "    </tr>\n",
       "  </tbody>\n",
       "</table>\n",
       "</div>"
      ],
      "text/plain": [
       "           str_code_1150  str_code_1200  str_code_1230  str_code_1250  \\\n",
       "inn                                                                     \n",
       "101003907           6499           9708           1247           3692   \n",
       "\n",
       "           str_code_1400  str_code_1500  str_code_1600  str_code_2100  \\\n",
       "inn                                                                     \n",
       "101003907              0           5640          16207          -6297   \n",
       "\n",
       "           str_code_2110  str_code_2200  str_code_2300  str_code_2400  \\\n",
       "inn                                                                     \n",
       "101003907          46568          -6297          -6506          -6506   \n",
       "\n",
       "           current_liquid  quick_liquid  gross_margin  operating_margin  \\\n",
       "inn                                                                       \n",
       "101003907        1.721277      0.875709     -0.135222         -0.135222   \n",
       "\n",
       "           profit_before_tax_margin  net_margin  debt_ratio  asset_turnover  \n",
       "inn                                                                          \n",
       "101003907                  -0.13971    -0.13971    0.347998         7.16541  "
      ]
     },
     "execution_count": 26,
     "metadata": {},
     "output_type": "execute_result"
    }
   ],
   "source": [
    "bo_features.head(1)"
   ]
  },
  {
   "cell_type": "code",
   "execution_count": 27,
   "id": "422c827a-6c06-4097-85b9-6edac1ddcd8a",
   "metadata": {
    "tags": []
   },
   "outputs": [
    {
     "data": {
      "text/html": [
       "<div>\n",
       "<style scoped>\n",
       "    .dataframe tbody tr th:only-of-type {\n",
       "        vertical-align: middle;\n",
       "    }\n",
       "\n",
       "    .dataframe tbody tr th {\n",
       "        vertical-align: top;\n",
       "    }\n",
       "\n",
       "    .dataframe thead th {\n",
       "        text-align: right;\n",
       "    }\n",
       "</style>\n",
       "<table border=\"1\" class=\"dataframe\">\n",
       "  <thead>\n",
       "    <tr style=\"text-align: right;\">\n",
       "      <th>status</th>\n",
       "      <th>Отказано в рассмотрении</th>\n",
       "      <th>Отозвана</th>\n",
       "      <th>Рассмотрена</th>\n",
       "    </tr>\n",
       "    <tr>\n",
       "      <th>inn</th>\n",
       "      <th></th>\n",
       "      <th></th>\n",
       "      <th></th>\n",
       "    </tr>\n",
       "  </thead>\n",
       "  <tbody>\n",
       "    <tr>\n",
       "      <th>101009232</th>\n",
       "      <td>0</td>\n",
       "      <td>0</td>\n",
       "      <td>1</td>\n",
       "    </tr>\n",
       "  </tbody>\n",
       "</table>\n",
       "</div>"
      ],
      "text/plain": [
       "status     Отказано в рассмотрении  Отозвана  Рассмотрена\n",
       "inn                                                      \n",
       "101009232                        0         0            1"
      ]
     },
     "execution_count": 27,
     "metadata": {},
     "output_type": "execute_result"
    }
   ],
   "source": [
    "complaint_features.head(1)"
   ]
  },
  {
   "cell_type": "code",
   "execution_count": 28,
   "id": "6aa63572-553a-48da-9082-cab6917d62ba",
   "metadata": {
    "tags": []
   },
   "outputs": [
    {
     "data": {
      "text/html": [
       "<div>\n",
       "<style scoped>\n",
       "    .dataframe tbody tr th:only-of-type {\n",
       "        vertical-align: middle;\n",
       "    }\n",
       "\n",
       "    .dataframe tbody tr th {\n",
       "        vertical-align: top;\n",
       "    }\n",
       "\n",
       "    .dataframe thead th {\n",
       "        text-align: right;\n",
       "    }\n",
       "</style>\n",
       "<table border=\"1\" class=\"dataframe\">\n",
       "  <thead>\n",
       "    <tr style=\"text-align: right;\">\n",
       "      <th></th>\n",
       "      <th>termination</th>\n",
       "      <th>is_entity_person</th>\n",
       "      <th>okved_basic_code</th>\n",
       "      <th>delta_days</th>\n",
       "      <th>has_filial</th>\n",
       "      <th>capital_size</th>\n",
       "    </tr>\n",
       "    <tr>\n",
       "      <th>inn</th>\n",
       "      <th></th>\n",
       "      <th></th>\n",
       "      <th></th>\n",
       "      <th></th>\n",
       "      <th></th>\n",
       "      <th></th>\n",
       "    </tr>\n",
       "  </thead>\n",
       "  <tbody>\n",
       "    <tr>\n",
       "      <th>105041999</th>\n",
       "      <td>False</td>\n",
       "      <td>True</td>\n",
       "      <td>86.10</td>\n",
       "      <td>6961</td>\n",
       "      <td>True</td>\n",
       "      <td>NaN</td>\n",
       "    </tr>\n",
       "  </tbody>\n",
       "</table>\n",
       "</div>"
      ],
      "text/plain": [
       "           termination  is_entity_person okved_basic_code  delta_days  \\\n",
       "inn                                                                     \n",
       "105041999        False              True            86.10        6961   \n",
       "\n",
       "           has_filial capital_size  \n",
       "inn                                 \n",
       "105041999        True          NaN  "
      ]
     },
     "execution_count": 28,
     "metadata": {},
     "output_type": "execute_result"
    }
   ],
   "source": [
    "egrul_features.head(1)"
   ]
  },
  {
   "cell_type": "code",
   "execution_count": 29,
   "id": "1f78d48f-06b7-422c-b563-384dfc6ef0f7",
   "metadata": {
    "tags": []
   },
   "outputs": [
    {
     "data": {
      "text/html": [
       "<div>\n",
       "<style scoped>\n",
       "    .dataframe tbody tr th:only-of-type {\n",
       "        vertical-align: middle;\n",
       "    }\n",
       "\n",
       "    .dataframe tbody tr th {\n",
       "        vertical-align: top;\n",
       "    }\n",
       "\n",
       "    .dataframe thead th {\n",
       "        text-align: right;\n",
       "    }\n",
       "</style>\n",
       "<table border=\"1\" class=\"dataframe\">\n",
       "  <thead>\n",
       "    <tr style=\"text-align: right;\">\n",
       "      <th></th>\n",
       "      <th>procedure_qty_223fz</th>\n",
       "      <th>procedure_qty_44fz</th>\n",
       "      <th>win_qty_223fz</th>\n",
       "      <th>win_qty_44fz</th>\n",
       "    </tr>\n",
       "    <tr>\n",
       "      <th>inn</th>\n",
       "      <th></th>\n",
       "      <th></th>\n",
       "      <th></th>\n",
       "      <th></th>\n",
       "    </tr>\n",
       "  </thead>\n",
       "  <tbody>\n",
       "    <tr>\n",
       "      <th>101003907</th>\n",
       "      <td>1</td>\n",
       "      <td>14</td>\n",
       "      <td>1</td>\n",
       "      <td>11</td>\n",
       "    </tr>\n",
       "  </tbody>\n",
       "</table>\n",
       "</div>"
      ],
      "text/plain": [
       "           procedure_qty_223fz  procedure_qty_44fz  win_qty_223fz  \\\n",
       "inn                                                                 \n",
       "101003907                    1                  14              1   \n",
       "\n",
       "           win_qty_44fz  \n",
       "inn                      \n",
       "101003907            11  "
      ]
     },
     "execution_count": 29,
     "metadata": {},
     "output_type": "execute_result"
    }
   ],
   "source": [
    "participation_features.head(1)"
   ]
  },
  {
   "cell_type": "code",
   "execution_count": 30,
   "id": "b1d70e4d-20dd-4be5-b12d-31ee1ab94c8a",
   "metadata": {
    "tags": []
   },
   "outputs": [
    {
     "data": {
      "text/html": [
       "<div>\n",
       "<style scoped>\n",
       "    .dataframe tbody tr th:only-of-type {\n",
       "        vertical-align: middle;\n",
       "    }\n",
       "\n",
       "    .dataframe tbody tr th {\n",
       "        vertical-align: top;\n",
       "    }\n",
       "\n",
       "    .dataframe thead th {\n",
       "        text-align: right;\n",
       "    }\n",
       "</style>\n",
       "<table border=\"1\" class=\"dataframe\">\n",
       "  <thead>\n",
       "    <tr style=\"text-align: right;\">\n",
       "      <th></th>\n",
       "      <th>id_contract</th>\n",
       "      <th>contract_price_rub</th>\n",
       "      <th>is_termination</th>\n",
       "    </tr>\n",
       "    <tr>\n",
       "      <th>inn</th>\n",
       "      <th></th>\n",
       "      <th></th>\n",
       "      <th></th>\n",
       "    </tr>\n",
       "  </thead>\n",
       "  <tbody>\n",
       "    <tr>\n",
       "      <th>0</th>\n",
       "      <td>75</td>\n",
       "      <td>37003334.21</td>\n",
       "      <td>0</td>\n",
       "    </tr>\n",
       "  </tbody>\n",
       "</table>\n",
       "</div>"
      ],
      "text/plain": [
       "     id_contract  contract_price_rub  is_termination\n",
       "inn                                                 \n",
       "0             75         37003334.21               0"
      ]
     },
     "execution_count": 30,
     "metadata": {},
     "output_type": "execute_result"
    }
   ],
   "source": [
    "contract_main_info_features.head(1)"
   ]
  },
  {
   "cell_type": "code",
   "execution_count": 31,
   "id": "9351798d-7ea7-4c6b-afcb-ec1b703c23b8",
   "metadata": {
    "tags": []
   },
   "outputs": [
    {
     "data": {
      "text/html": [
       "<div>\n",
       "<style scoped>\n",
       "    .dataframe tbody tr th:only-of-type {\n",
       "        vertical-align: middle;\n",
       "    }\n",
       "\n",
       "    .dataframe tbody tr th {\n",
       "        vertical-align: top;\n",
       "    }\n",
       "\n",
       "    .dataframe thead th {\n",
       "        text-align: right;\n",
       "    }\n",
       "</style>\n",
       "<table border=\"1\" class=\"dataframe\">\n",
       "  <thead>\n",
       "    <tr style=\"text-align: right;\">\n",
       "      <th></th>\n",
       "      <th>okved_basic_code</th>\n",
       "    </tr>\n",
       "    <tr>\n",
       "      <th>inn</th>\n",
       "      <th></th>\n",
       "    </tr>\n",
       "  </thead>\n",
       "  <tbody>\n",
       "    <tr>\n",
       "      <th>10100400827</th>\n",
       "      <td>45.32</td>\n",
       "    </tr>\n",
       "  </tbody>\n",
       "</table>\n",
       "</div>"
      ],
      "text/plain": [
       "            okved_basic_code\n",
       "inn                         \n",
       "10100400827            45.32"
      ]
     },
     "execution_count": 31,
     "metadata": {},
     "output_type": "execute_result"
    }
   ],
   "source": [
    "egrip_features.head(1)"
   ]
  },
  {
   "cell_type": "code",
   "execution_count": 32,
   "id": "6a78288b-c1a2-49e7-a501-c864d6c05e31",
   "metadata": {
    "tags": []
   },
   "outputs": [
    {
     "data": {
      "text/html": [
       "<div>\n",
       "<style scoped>\n",
       "    .dataframe tbody tr th:only-of-type {\n",
       "        vertical-align: middle;\n",
       "    }\n",
       "\n",
       "    .dataframe tbody tr th {\n",
       "        vertical-align: top;\n",
       "    }\n",
       "\n",
       "    .dataframe thead th {\n",
       "        text-align: right;\n",
       "    }\n",
       "</style>\n",
       "<table border=\"1\" class=\"dataframe\">\n",
       "  <thead>\n",
       "    <tr style=\"text-align: right;\">\n",
       "      <th>status</th>\n",
       "      <th>Отказано в рассмотрении</th>\n",
       "      <th>Отозвана</th>\n",
       "      <th>Рассмотрена</th>\n",
       "    </tr>\n",
       "    <tr>\n",
       "      <th>inn</th>\n",
       "      <th></th>\n",
       "      <th></th>\n",
       "      <th></th>\n",
       "    </tr>\n",
       "  </thead>\n",
       "  <tbody>\n",
       "    <tr>\n",
       "      <th>101009232</th>\n",
       "      <td>0</td>\n",
       "      <td>0</td>\n",
       "      <td>1</td>\n",
       "    </tr>\n",
       "  </tbody>\n",
       "</table>\n",
       "</div>"
      ],
      "text/plain": [
       "status     Отказано в рассмотрении  Отозвана  Рассмотрена\n",
       "inn                                                      \n",
       "101009232                        0         0            1"
      ]
     },
     "execution_count": 32,
     "metadata": {},
     "output_type": "execute_result"
    }
   ],
   "source": [
    "complaint_features.head(1)"
   ]
  },
  {
   "cell_type": "code",
   "execution_count": 33,
   "id": "92299edf-3c72-4084-8c31-06fa1a19d86a",
   "metadata": {
    "tags": []
   },
   "outputs": [
    {
     "data": {
      "text/html": [
       "<div>\n",
       "<style scoped>\n",
       "    .dataframe tbody tr th:only-of-type {\n",
       "        vertical-align: middle;\n",
       "    }\n",
       "\n",
       "    .dataframe tbody tr th {\n",
       "        vertical-align: top;\n",
       "    }\n",
       "\n",
       "    .dataframe thead th {\n",
       "        text-align: right;\n",
       "    }\n",
       "</style>\n",
       "<table border=\"1\" class=\"dataframe\">\n",
       "  <thead>\n",
       "    <tr style=\"text-align: right;\">\n",
       "      <th></th>\n",
       "      <th>avg_staff_qty</th>\n",
       "    </tr>\n",
       "    <tr>\n",
       "      <th>inn</th>\n",
       "      <th></th>\n",
       "    </tr>\n",
       "  </thead>\n",
       "  <tbody>\n",
       "    <tr>\n",
       "      <th>6164308645</th>\n",
       "      <td>3</td>\n",
       "    </tr>\n",
       "  </tbody>\n",
       "</table>\n",
       "</div>"
      ],
      "text/plain": [
       "            avg_staff_qty\n",
       "inn                      \n",
       "6164308645              3"
      ]
     },
     "execution_count": 33,
     "metadata": {},
     "output_type": "execute_result"
    }
   ],
   "source": [
    "avg_staff_qty_features.head(1)"
   ]
  },
  {
   "cell_type": "code",
   "execution_count": null,
   "id": "029634dc-ee02-4013-bf49-50eb18236f20",
   "metadata": {},
   "outputs": [],
   "source": [
    "final_df = pd.concat([bo_features, complaint_features, egrul_features,\n",
    "                      participation_features, egrip_features,\n",
    "                      complaint_features, avg_staff_qty_features])"
   ]
  },
  {
   "cell_type": "code",
   "execution_count": 50,
   "id": "7e825737-2951-47e4-a67b-07463fb671ea",
   "metadata": {
    "tags": []
   },
   "outputs": [
    {
     "data": {
      "text/plain": [
       "101003907     1\n",
       "6829134550    1\n",
       "6829136692    1\n",
       "6829136396    1\n",
       "6829136332    1\n",
       "             ..\n",
       "4345289849    1\n",
       "4345288228    1\n",
       "4345287305    1\n",
       "4345286238    1\n",
       "9909125356    1\n",
       "Name: inn, Length: 96033, dtype: int64"
      ]
     },
     "execution_count": 50,
     "metadata": {},
     "output_type": "execute_result"
    }
   ],
   "source": [
    "final_df = bo_features.join(complaint_features).join(egrul_features)\n",
    "final_df = final_df.reset_index()\n",
    "final_df[\"inn\"].value_counts()"
   ]
  },
  {
   "cell_type": "code",
   "execution_count": 43,
   "id": "40f1a565-986b-40ed-9ce1-a1871ce030d1",
   "metadata": {
    "tags": []
   },
   "outputs": [
    {
     "data": {
      "text/html": [
       "<div>\n",
       "<style scoped>\n",
       "    .dataframe tbody tr th:only-of-type {\n",
       "        vertical-align: middle;\n",
       "    }\n",
       "\n",
       "    .dataframe tbody tr th {\n",
       "        vertical-align: top;\n",
       "    }\n",
       "\n",
       "    .dataframe thead th {\n",
       "        text-align: right;\n",
       "    }\n",
       "</style>\n",
       "<table border=\"1\" class=\"dataframe\">\n",
       "  <thead>\n",
       "    <tr style=\"text-align: right;\">\n",
       "      <th></th>\n",
       "      <th>str_code_1150</th>\n",
       "      <th>str_code_1200</th>\n",
       "      <th>str_code_1230</th>\n",
       "      <th>str_code_1250</th>\n",
       "      <th>str_code_1400</th>\n",
       "      <th>str_code_1500</th>\n",
       "      <th>str_code_1600</th>\n",
       "      <th>str_code_2100</th>\n",
       "      <th>str_code_2110</th>\n",
       "      <th>str_code_2200</th>\n",
       "      <th>...</th>\n",
       "      <th>net_margin</th>\n",
       "      <th>debt_ratio</th>\n",
       "      <th>asset_turnover</th>\n",
       "      <th>Отказано в рассмотрении</th>\n",
       "      <th>Отозвана</th>\n",
       "      <th>Рассмотрена</th>\n",
       "      <th>procedure_qty_223fz</th>\n",
       "      <th>procedure_qty_44fz</th>\n",
       "      <th>win_qty_223fz</th>\n",
       "      <th>win_qty_44fz</th>\n",
       "    </tr>\n",
       "    <tr>\n",
       "      <th>inn</th>\n",
       "      <th></th>\n",
       "      <th></th>\n",
       "      <th></th>\n",
       "      <th></th>\n",
       "      <th></th>\n",
       "      <th></th>\n",
       "      <th></th>\n",
       "      <th></th>\n",
       "      <th></th>\n",
       "      <th></th>\n",
       "      <th></th>\n",
       "      <th></th>\n",
       "      <th></th>\n",
       "      <th></th>\n",
       "      <th></th>\n",
       "      <th></th>\n",
       "      <th></th>\n",
       "      <th></th>\n",
       "      <th></th>\n",
       "      <th></th>\n",
       "      <th></th>\n",
       "    </tr>\n",
       "  </thead>\n",
       "  <tbody>\n",
       "    <tr>\n",
       "      <th>101003907</th>\n",
       "      <td>6499.0</td>\n",
       "      <td>9708.0</td>\n",
       "      <td>1247.0</td>\n",
       "      <td>3692.0</td>\n",
       "      <td>0.0</td>\n",
       "      <td>5640.0</td>\n",
       "      <td>16207.0</td>\n",
       "      <td>-6297.0</td>\n",
       "      <td>46568.0</td>\n",
       "      <td>-6297.0</td>\n",
       "      <td>...</td>\n",
       "      <td>-0.139710</td>\n",
       "      <td>0.347998</td>\n",
       "      <td>7.165410</td>\n",
       "      <td>NaN</td>\n",
       "      <td>NaN</td>\n",
       "      <td>NaN</td>\n",
       "      <td>NaN</td>\n",
       "      <td>NaN</td>\n",
       "      <td>NaN</td>\n",
       "      <td>NaN</td>\n",
       "    </tr>\n",
       "    <tr>\n",
       "      <th>101005862</th>\n",
       "      <td>1100.0</td>\n",
       "      <td>24.0</td>\n",
       "      <td>0.0</td>\n",
       "      <td>24.0</td>\n",
       "      <td>106.0</td>\n",
       "      <td>435.0</td>\n",
       "      <td>1124.0</td>\n",
       "      <td>-19.0</td>\n",
       "      <td>2777.0</td>\n",
       "      <td>-19.0</td>\n",
       "      <td>...</td>\n",
       "      <td>-0.006842</td>\n",
       "      <td>0.481317</td>\n",
       "      <td>2.524545</td>\n",
       "      <td>NaN</td>\n",
       "      <td>NaN</td>\n",
       "      <td>NaN</td>\n",
       "      <td>NaN</td>\n",
       "      <td>NaN</td>\n",
       "      <td>NaN</td>\n",
       "      <td>NaN</td>\n",
       "    </tr>\n",
       "    <tr>\n",
       "      <th>101006993</th>\n",
       "      <td>1556.0</td>\n",
       "      <td>4585.0</td>\n",
       "      <td>4577.0</td>\n",
       "      <td>8.0</td>\n",
       "      <td>0.0</td>\n",
       "      <td>4920.0</td>\n",
       "      <td>6141.0</td>\n",
       "      <td>0.0</td>\n",
       "      <td>0.0</td>\n",
       "      <td>0.0</td>\n",
       "      <td>...</td>\n",
       "      <td>NaN</td>\n",
       "      <td>0.801172</td>\n",
       "      <td>0.000000</td>\n",
       "      <td>NaN</td>\n",
       "      <td>NaN</td>\n",
       "      <td>NaN</td>\n",
       "      <td>NaN</td>\n",
       "      <td>NaN</td>\n",
       "      <td>NaN</td>\n",
       "      <td>NaN</td>\n",
       "    </tr>\n",
       "    <tr>\n",
       "      <th>101007122</th>\n",
       "      <td>4870.0</td>\n",
       "      <td>8239.0</td>\n",
       "      <td>3707.0</td>\n",
       "      <td>969.0</td>\n",
       "      <td>0.0</td>\n",
       "      <td>12837.0</td>\n",
       "      <td>13301.0</td>\n",
       "      <td>-2455.0</td>\n",
       "      <td>15809.0</td>\n",
       "      <td>-2455.0</td>\n",
       "      <td>...</td>\n",
       "      <td>-0.155228</td>\n",
       "      <td>0.965115</td>\n",
       "      <td>3.246201</td>\n",
       "      <td>NaN</td>\n",
       "      <td>NaN</td>\n",
       "      <td>NaN</td>\n",
       "      <td>NaN</td>\n",
       "      <td>NaN</td>\n",
       "      <td>NaN</td>\n",
       "      <td>NaN</td>\n",
       "    </tr>\n",
       "    <tr>\n",
       "      <th>101007130</th>\n",
       "      <td>0.0</td>\n",
       "      <td>14887.0</td>\n",
       "      <td>7740.0</td>\n",
       "      <td>23.0</td>\n",
       "      <td>0.0</td>\n",
       "      <td>46607.0</td>\n",
       "      <td>14887.0</td>\n",
       "      <td>-1627.0</td>\n",
       "      <td>6084.0</td>\n",
       "      <td>-2845.0</td>\n",
       "      <td>...</td>\n",
       "      <td>-0.450690</td>\n",
       "      <td>3.130718</td>\n",
       "      <td>inf</td>\n",
       "      <td>NaN</td>\n",
       "      <td>NaN</td>\n",
       "      <td>NaN</td>\n",
       "      <td>NaN</td>\n",
       "      <td>NaN</td>\n",
       "      <td>NaN</td>\n",
       "      <td>NaN</td>\n",
       "    </tr>\n",
       "    <tr>\n",
       "      <th>...</th>\n",
       "      <td>...</td>\n",
       "      <td>...</td>\n",
       "      <td>...</td>\n",
       "      <td>...</td>\n",
       "      <td>...</td>\n",
       "      <td>...</td>\n",
       "      <td>...</td>\n",
       "      <td>...</td>\n",
       "      <td>...</td>\n",
       "      <td>...</td>\n",
       "      <td>...</td>\n",
       "      <td>...</td>\n",
       "      <td>...</td>\n",
       "      <td>...</td>\n",
       "      <td>...</td>\n",
       "      <td>...</td>\n",
       "      <td>...</td>\n",
       "      <td>...</td>\n",
       "      <td>...</td>\n",
       "      <td>...</td>\n",
       "      <td>...</td>\n",
       "    </tr>\n",
       "    <tr>\n",
       "      <th>990103636632</th>\n",
       "      <td>NaN</td>\n",
       "      <td>NaN</td>\n",
       "      <td>NaN</td>\n",
       "      <td>NaN</td>\n",
       "      <td>NaN</td>\n",
       "      <td>NaN</td>\n",
       "      <td>NaN</td>\n",
       "      <td>NaN</td>\n",
       "      <td>NaN</td>\n",
       "      <td>NaN</td>\n",
       "      <td>...</td>\n",
       "      <td>NaN</td>\n",
       "      <td>NaN</td>\n",
       "      <td>NaN</td>\n",
       "      <td>NaN</td>\n",
       "      <td>NaN</td>\n",
       "      <td>NaN</td>\n",
       "      <td>1.0</td>\n",
       "      <td>9.0</td>\n",
       "      <td>1.0</td>\n",
       "      <td>6.0</td>\n",
       "    </tr>\n",
       "    <tr>\n",
       "      <th>990116301104</th>\n",
       "      <td>NaN</td>\n",
       "      <td>NaN</td>\n",
       "      <td>NaN</td>\n",
       "      <td>NaN</td>\n",
       "      <td>NaN</td>\n",
       "      <td>NaN</td>\n",
       "      <td>NaN</td>\n",
       "      <td>NaN</td>\n",
       "      <td>NaN</td>\n",
       "      <td>NaN</td>\n",
       "      <td>...</td>\n",
       "      <td>NaN</td>\n",
       "      <td>NaN</td>\n",
       "      <td>NaN</td>\n",
       "      <td>NaN</td>\n",
       "      <td>NaN</td>\n",
       "      <td>NaN</td>\n",
       "      <td>1.0</td>\n",
       "      <td>49.0</td>\n",
       "      <td>1.0</td>\n",
       "      <td>9.0</td>\n",
       "    </tr>\n",
       "    <tr>\n",
       "      <th>990116467452</th>\n",
       "      <td>NaN</td>\n",
       "      <td>NaN</td>\n",
       "      <td>NaN</td>\n",
       "      <td>NaN</td>\n",
       "      <td>NaN</td>\n",
       "      <td>NaN</td>\n",
       "      <td>NaN</td>\n",
       "      <td>NaN</td>\n",
       "      <td>NaN</td>\n",
       "      <td>NaN</td>\n",
       "      <td>...</td>\n",
       "      <td>NaN</td>\n",
       "      <td>NaN</td>\n",
       "      <td>NaN</td>\n",
       "      <td>NaN</td>\n",
       "      <td>NaN</td>\n",
       "      <td>NaN</td>\n",
       "      <td>0.0</td>\n",
       "      <td>57.0</td>\n",
       "      <td>0.0</td>\n",
       "      <td>11.0</td>\n",
       "    </tr>\n",
       "    <tr>\n",
       "      <th>990116504915</th>\n",
       "      <td>NaN</td>\n",
       "      <td>NaN</td>\n",
       "      <td>NaN</td>\n",
       "      <td>NaN</td>\n",
       "      <td>NaN</td>\n",
       "      <td>NaN</td>\n",
       "      <td>NaN</td>\n",
       "      <td>NaN</td>\n",
       "      <td>NaN</td>\n",
       "      <td>NaN</td>\n",
       "      <td>...</td>\n",
       "      <td>NaN</td>\n",
       "      <td>NaN</td>\n",
       "      <td>NaN</td>\n",
       "      <td>NaN</td>\n",
       "      <td>NaN</td>\n",
       "      <td>NaN</td>\n",
       "      <td>10.0</td>\n",
       "      <td>58.0</td>\n",
       "      <td>5.0</td>\n",
       "      <td>11.0</td>\n",
       "    </tr>\n",
       "    <tr>\n",
       "      <th>990116534780</th>\n",
       "      <td>NaN</td>\n",
       "      <td>NaN</td>\n",
       "      <td>NaN</td>\n",
       "      <td>NaN</td>\n",
       "      <td>NaN</td>\n",
       "      <td>NaN</td>\n",
       "      <td>NaN</td>\n",
       "      <td>NaN</td>\n",
       "      <td>NaN</td>\n",
       "      <td>NaN</td>\n",
       "      <td>...</td>\n",
       "      <td>NaN</td>\n",
       "      <td>NaN</td>\n",
       "      <td>NaN</td>\n",
       "      <td>NaN</td>\n",
       "      <td>NaN</td>\n",
       "      <td>NaN</td>\n",
       "      <td>2.0</td>\n",
       "      <td>6.0</td>\n",
       "      <td>2.0</td>\n",
       "      <td>2.0</td>\n",
       "    </tr>\n",
       "  </tbody>\n",
       "</table>\n",
       "<p>248953 rows × 27 columns</p>\n",
       "</div>"
      ],
      "text/plain": [
       "              str_code_1150  str_code_1200  str_code_1230  str_code_1250  \\\n",
       "inn                                                                        \n",
       "101003907            6499.0         9708.0         1247.0         3692.0   \n",
       "101005862            1100.0           24.0            0.0           24.0   \n",
       "101006993            1556.0         4585.0         4577.0            8.0   \n",
       "101007122            4870.0         8239.0         3707.0          969.0   \n",
       "101007130               0.0        14887.0         7740.0           23.0   \n",
       "...                     ...            ...            ...            ...   \n",
       "990103636632            NaN            NaN            NaN            NaN   \n",
       "990116301104            NaN            NaN            NaN            NaN   \n",
       "990116467452            NaN            NaN            NaN            NaN   \n",
       "990116504915            NaN            NaN            NaN            NaN   \n",
       "990116534780            NaN            NaN            NaN            NaN   \n",
       "\n",
       "              str_code_1400  str_code_1500  str_code_1600  str_code_2100  \\\n",
       "inn                                                                        \n",
       "101003907               0.0         5640.0        16207.0        -6297.0   \n",
       "101005862             106.0          435.0         1124.0          -19.0   \n",
       "101006993               0.0         4920.0         6141.0            0.0   \n",
       "101007122               0.0        12837.0        13301.0        -2455.0   \n",
       "101007130               0.0        46607.0        14887.0        -1627.0   \n",
       "...                     ...            ...            ...            ...   \n",
       "990103636632            NaN            NaN            NaN            NaN   \n",
       "990116301104            NaN            NaN            NaN            NaN   \n",
       "990116467452            NaN            NaN            NaN            NaN   \n",
       "990116504915            NaN            NaN            NaN            NaN   \n",
       "990116534780            NaN            NaN            NaN            NaN   \n",
       "\n",
       "              str_code_2110  str_code_2200  ...  net_margin  debt_ratio  \\\n",
       "inn                                         ...                           \n",
       "101003907           46568.0        -6297.0  ...   -0.139710    0.347998   \n",
       "101005862            2777.0          -19.0  ...   -0.006842    0.481317   \n",
       "101006993               0.0            0.0  ...         NaN    0.801172   \n",
       "101007122           15809.0        -2455.0  ...   -0.155228    0.965115   \n",
       "101007130            6084.0        -2845.0  ...   -0.450690    3.130718   \n",
       "...                     ...            ...  ...         ...         ...   \n",
       "990103636632            NaN            NaN  ...         NaN         NaN   \n",
       "990116301104            NaN            NaN  ...         NaN         NaN   \n",
       "990116467452            NaN            NaN  ...         NaN         NaN   \n",
       "990116504915            NaN            NaN  ...         NaN         NaN   \n",
       "990116534780            NaN            NaN  ...         NaN         NaN   \n",
       "\n",
       "              asset_turnover  Отказано в рассмотрении  Отозвана  Рассмотрена  \\\n",
       "inn                                                                            \n",
       "101003907           7.165410                      NaN       NaN          NaN   \n",
       "101005862           2.524545                      NaN       NaN          NaN   \n",
       "101006993           0.000000                      NaN       NaN          NaN   \n",
       "101007122           3.246201                      NaN       NaN          NaN   \n",
       "101007130                inf                      NaN       NaN          NaN   \n",
       "...                      ...                      ...       ...          ...   \n",
       "990103636632             NaN                      NaN       NaN          NaN   \n",
       "990116301104             NaN                      NaN       NaN          NaN   \n",
       "990116467452             NaN                      NaN       NaN          NaN   \n",
       "990116504915             NaN                      NaN       NaN          NaN   \n",
       "990116534780             NaN                      NaN       NaN          NaN   \n",
       "\n",
       "              procedure_qty_223fz  procedure_qty_44fz  win_qty_223fz  \\\n",
       "inn                                                                    \n",
       "101003907                     NaN                 NaN            NaN   \n",
       "101005862                     NaN                 NaN            NaN   \n",
       "101006993                     NaN                 NaN            NaN   \n",
       "101007122                     NaN                 NaN            NaN   \n",
       "101007130                     NaN                 NaN            NaN   \n",
       "...                           ...                 ...            ...   \n",
       "990103636632                  1.0                 9.0            1.0   \n",
       "990116301104                  1.0                49.0            1.0   \n",
       "990116467452                  0.0                57.0            0.0   \n",
       "990116504915                 10.0                58.0            5.0   \n",
       "990116534780                  2.0                 6.0            2.0   \n",
       "\n",
       "              win_qty_44fz  \n",
       "inn                         \n",
       "101003907              NaN  \n",
       "101005862              NaN  \n",
       "101006993              NaN  \n",
       "101007122              NaN  \n",
       "101007130              NaN  \n",
       "...                    ...  \n",
       "990103636632           6.0  \n",
       "990116301104           9.0  \n",
       "990116467452          11.0  \n",
       "990116504915          11.0  \n",
       "990116534780           2.0  \n",
       "\n",
       "[248953 rows x 27 columns]"
      ]
     },
     "execution_count": 43,
     "metadata": {},
     "output_type": "execute_result"
    }
   ],
   "source": [
    "final_df"
   ]
  },
  {
   "cell_type": "code",
   "execution_count": null,
   "id": "236e36cb-872a-4611-bf5f-c35bfadfd95f",
   "metadata": {
    "tags": []
   },
   "outputs": [],
   "source": [
    "final_df[final_df[\"inn\"].isin(full_data.data[\"inn_list\"][\"inn\"])]"
   ]
  },
  {
   "cell_type": "code",
   "execution_count": null,
   "id": "6e79cd7f-5377-4dde-987a-6d2047813a41",
   "metadata": {},
   "outputs": [],
   "source": []
  }
 ],
 "metadata": {
  "kernelspec": {
   "display_name": "Python 3 (ipykernel)",
   "language": "python",
   "name": "python3"
  },
  "language_info": {
   "codemirror_mode": {
    "name": "ipython",
    "version": 3
   },
   "file_extension": ".py",
   "mimetype": "text/x-python",
   "name": "python",
   "nbconvert_exporter": "python",
   "pygments_lexer": "ipython3",
   "version": "3.10.6"
  }
 },
 "nbformat": 4,
 "nbformat_minor": 5
}

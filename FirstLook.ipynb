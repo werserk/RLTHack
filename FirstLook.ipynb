{
 "cells": [
  {
   "cell_type": "code",
   "execution_count": 1,
   "outputs": [],
   "source": [
    "import warnings\n",
    "\n",
    "warnings.simplefilter(\"ignore\")"
   ],
   "metadata": {
    "collapsed": false,
    "pycharm": {
     "name": "#%%\n"
    }
   }
  },
  {
   "cell_type": "code",
   "execution_count": 2,
   "outputs": [],
   "source": [
    "from base import DataObj"
   ],
   "metadata": {
    "collapsed": false,
    "pycharm": {
     "name": "#%%\n"
    }
   }
  },
  {
   "cell_type": "code",
   "execution_count": 3,
   "outputs": [
    {
     "data": {
      "text/plain": "  0%|          | 0/26 [00:00<?, ?it/s]",
      "application/vnd.jupyter.widget-view+json": {
       "version_major": 2,
       "version_minor": 0,
       "model_id": "526542844fd04efcbcbc09b74cb13fa2"
      }
     },
     "metadata": {},
     "output_type": "display_data"
    }
   ],
   "source": [
    "full_data = DataObj('data')"
   ],
   "metadata": {
    "collapsed": false,
    "pycharm": {
     "name": "#%%\n"
    }
   }
  },
  {
   "cell_type": "code",
   "execution_count": 4,
   "outputs": [
    {
     "data": {
      "text/plain": "['inn_list',\n 'contract_main_info',\n 'contract_item_info',\n 'contract_termination',\n 'contract_improper_execution',\n 'notification_info',\n 'complaint_info',\n 'participation_statistic',\n 'rnp',\n 'msp_reestr',\n 'special_taxation',\n 'fssp_enforcement_proceedings',\n 'statistic_codes',\n 'bo_str_codes',\n 'bo_balance',\n 'bo_capital_change_1',\n 'bo_capital_change_2',\n 'bo_capital_change_3',\n 'bo_financial_results',\n 'bo_fund_movement',\n 'bo_target_fund_use',\n 'avg_staff_qty',\n 'egrul_info',\n 'egrul_licenses',\n 'egrip_info',\n 'egrip_licenses']"
     },
     "execution_count": 4,
     "metadata": {},
     "output_type": "execute_result"
    }
   ],
   "source": [
    "full_data.keys()"
   ],
   "metadata": {
    "collapsed": false,
    "pycharm": {
     "name": "#%%\n"
    }
   }
  },
  {
   "cell_type": "code",
   "execution_count": 5,
   "outputs": [
    {
     "data": {
      "text/plain": "dict_keys(['avg_staff_qty', 'bo_balance', 'bo_capital_change_1', 'bo_capital_change_2', 'bo_capital_change_3', 'bo_financial_results', 'bo_fund_movement', 'bo_str_codes', 'bo_target_fund_use', 'complaint_info', 'contract_improper_execution', 'contract_item_info', 'contract_main_info', 'contract_termination', 'egrip_info', 'egrip_licenses', 'egrul_info', 'egrul_licenses', 'fssp_enforcement_proceedings', 'inn_list', 'msp_reestr', 'notification_info', 'participation_statistic', 'rnp', 'special_taxation', 'statistic_codes'])"
     },
     "execution_count": 5,
     "metadata": {},
     "output_type": "execute_result"
    }
   ],
   "source": [
    "full_data.data.keys()"
   ],
   "metadata": {
    "collapsed": false,
    "pycharm": {
     "name": "#%%\n"
    }
   }
  },
  {
   "cell_type": "code",
   "execution_count": 6,
   "outputs": [
    {
     "data": {
      "text/plain": "dict_keys(['inn_list', 'contract_main_info', 'contract_item_info', 'contract_termination', 'contract_improper_execution', 'notification_info', 'complaint_info', 'participation_statistic', 'rnp', 'msp_reestr', 'special_taxation', 'fssp_enforcement_proceedings', 'statistic_codes', 'bo_str_codes', 'bo_balance', 'bo_capital_change_1', 'bo_capital_change_2', 'bo_capital_change_3', 'bo_financial_results', 'bo_fund_movement', 'bo_target_fund_use', 'avg_staff_qty', 'egrul_info', 'egrul_licenses', 'egrip_info', 'egrip_licenses'])"
     },
     "execution_count": 6,
     "metadata": {},
     "output_type": "execute_result"
    }
   ],
   "source": [
    "full_data.desc.keys()"
   ],
   "metadata": {
    "collapsed": false,
    "pycharm": {
     "name": "#%%\n"
    }
   }
  },
  {
   "cell_type": "code",
   "execution_count": null,
   "outputs": [],
   "source": [],
   "metadata": {
    "collapsed": false,
    "pycharm": {
     "name": "#%%\n"
    }
   }
  }
 ],
 "metadata": {
  "kernelspec": {
   "display_name": "Python 3",
   "language": "python",
   "name": "python3"
  },
  "language_info": {
   "codemirror_mode": {
    "name": "ipython",
    "version": 2
   },
   "file_extension": ".py",
   "mimetype": "text/x-python",
   "name": "python",
   "nbconvert_exporter": "python",
   "pygments_lexer": "ipython2",
   "version": "2.7.6"
  }
 },
 "nbformat": 4,
 "nbformat_minor": 0
}
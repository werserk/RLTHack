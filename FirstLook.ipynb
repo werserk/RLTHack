{
 "cells": [
  {
   "cell_type": "code",
   "execution_count": 35,
   "outputs": [],
   "source": [
    "import glob\n",
    "import os\n",
    "import warnings\n",
    "\n",
    "import pandas as pd\n",
    "from tqdm.notebook import tqdm\n",
    "\n",
    "warnings.simplefilter(\"ignore\")"
   ],
   "metadata": {
    "collapsed": false,
    "pycharm": {
     "name": "#%%\n"
    }
   }
  },
  {
   "cell_type": "code",
   "execution_count": 36,
   "outputs": [
    {
     "data": {
      "text/plain": "['data/tables\\\\avg_staff_qty.csv',\n 'data/tables\\\\bo_balance.csv',\n 'data/tables\\\\bo_capital_change_1.csv',\n 'data/tables\\\\bo_capital_change_2.csv',\n 'data/tables\\\\bo_capital_change_3.csv',\n 'data/tables\\\\bo_financial_results.csv',\n 'data/tables\\\\bo_fund_movement.csv',\n 'data/tables\\\\bo_str_codes.csv',\n 'data/tables\\\\bo_target_fund_use.csv',\n 'data/tables\\\\complaint_info.csv',\n 'data/tables\\\\contract_improper_execution.csv',\n 'data/tables\\\\contract_item_info.csv',\n 'data/tables\\\\contract_main_info.csv',\n 'data/tables\\\\contract_termination.csv',\n 'data/tables\\\\egrip_info.csv',\n 'data/tables\\\\egrip_licenses.csv',\n 'data/tables\\\\egrul_info.csv',\n 'data/tables\\\\egrul_licenses.csv',\n 'data/tables\\\\fssp_enforcement_proceedings.csv',\n 'data/tables\\\\inn_list.csv',\n 'data/tables\\\\msp_reestr.csv',\n 'data/tables\\\\notification_info.csv',\n 'data/tables\\\\participation_statistic.csv',\n 'data/tables\\\\rnp.csv',\n 'data/tables\\\\special_taxation.csv',\n 'data/tables\\\\statistic_codes.csv']"
     },
     "execution_count": 36,
     "metadata": {},
     "output_type": "execute_result"
    }
   ],
   "source": [
    "all_table_paths = glob.glob('data/tables/*')\n",
    "all_table_paths"
   ],
   "metadata": {
    "collapsed": false,
    "pycharm": {
     "name": "#%%\n"
    }
   }
  },
  {
   "cell_type": "code",
   "execution_count": 41,
   "outputs": [
    {
     "data": {
      "text/plain": "  0%|          | 0/26 [00:00<?, ?it/s]",
      "application/vnd.jupyter.widget-view+json": {
       "version_major": 2,
       "version_minor": 0,
       "model_id": "fc0f6a656c0447feaf611061ea13ec52"
      }
     },
     "metadata": {},
     "output_type": "display_data"
    },
    {
     "data": {
      "text/plain": "(26,\n ['avg_staff_qty',\n  'bo_balance',\n  'bo_capital_change_1',\n  'bo_capital_change_2',\n  'bo_capital_change_3',\n  'bo_financial_results',\n  'bo_fund_movement',\n  'bo_str_codes',\n  'bo_target_fund_use',\n  'complaint_info',\n  'contract_improper_execution',\n  'contract_item_info',\n  'contract_main_info',\n  'contract_termination',\n  'egrip_info',\n  'egrip_licenses',\n  'egrul_info',\n  'egrul_licenses',\n  'fssp_enforcement_proceedings',\n  'inn_list',\n  'msp_reestr',\n  'notification_info',\n  'participation_statistic',\n  'rnp',\n  'special_taxation',\n  'statistic_codes'])"
     },
     "execution_count": 41,
     "metadata": {},
     "output_type": "execute_result"
    }
   ],
   "source": [
    "data = {os.path.basename(path).split('.')[0]: pd.read_csv(path, sep=';') for path in tqdm(all_table_paths)}\n",
    "len(data.keys()), sorted(list(data.keys()))"
   ],
   "metadata": {
    "collapsed": false,
    "pycharm": {
     "name": "#%%\n"
    }
   }
  },
  {
   "cell_type": "code",
   "execution_count": 42,
   "outputs": [
    {
     "data": {
      "text/plain": "(26,\n ['avg_staff_qty',\n  'bo_balance',\n  'bo_capital_change_1',\n  'bo_capital_change_2',\n  'bo_capital_change_3',\n  'bo_financial_results',\n  'bo_fund_movement',\n  'bo_str_codes',\n  'bo_target_fund_use',\n  'complaint_info',\n  'contract_improper_execution',\n  'contract_item_info',\n  'contract_main_info',\n  'contract_termination',\n  'egrip_info',\n  'egrip_licenses',\n  'egrul_info',\n  'egrul_licenses',\n  'fssp_enforcement_proceedings',\n  'inn_list',\n  'msp_reestr',\n  'notification_info',\n  'participation_statistic',\n  'rnp',\n  'special_taxation',\n  'statistic_codes'])"
     },
     "execution_count": 42,
     "metadata": {},
     "output_type": "execute_result"
    }
   ],
   "source": [
    "desc = pd.read_excel('data/data.xlsx', sheet_name=None)\n",
    "desc.pop('Перечень файлов')\n",
    "desc = {key.split('.')[1]: desc[key] for key in desc}\n",
    "len(data.keys()), sorted(list(desc.keys()))"
   ],
   "metadata": {
    "collapsed": false,
    "pycharm": {
     "name": "#%%\n"
    }
   }
  },
  {
   "cell_type": "code",
   "execution_count": null,
   "outputs": [],
   "source": [],
   "metadata": {
    "collapsed": false,
    "pycharm": {
     "name": "#%%\n"
    }
   }
  }
 ],
 "metadata": {
  "kernelspec": {
   "display_name": "Python 3",
   "language": "python",
   "name": "python3"
  },
  "language_info": {
   "codemirror_mode": {
    "name": "ipython",
    "version": 2
   },
   "file_extension": ".py",
   "mimetype": "text/x-python",
   "name": "python",
   "nbconvert_exporter": "python",
   "pygments_lexer": "ipython2",
   "version": "2.7.6"
  }
 },
 "nbformat": 4,
 "nbformat_minor": 0
}
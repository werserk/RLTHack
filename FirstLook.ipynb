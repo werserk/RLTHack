{
 "cells": [
  {
   "cell_type": "markdown",
   "source": [
    "# Общее\n",
    "![alt text](base.png)"
   ],
   "metadata": {
    "collapsed": false,
    "pycharm": {
     "name": "#%% md\n"
    }
   }
  },
  {
   "cell_type": "code",
   "execution_count": 1,
   "outputs": [],
   "source": [
    "import pandas as pd"
   ],
   "metadata": {
    "collapsed": false,
    "pycharm": {
     "name": "#%%\n"
    }
   }
  },
  {
   "cell_type": "code",
   "execution_count": 2,
   "outputs": [],
   "source": [
    "import warnings\n",
    "\n",
    "warnings.simplefilter(\"ignore\")"
   ],
   "metadata": {
    "collapsed": false,
    "pycharm": {
     "name": "#%%\n"
    }
   }
  },
  {
   "cell_type": "code",
   "execution_count": 3,
   "outputs": [],
   "source": [
    "from base import DataObj"
   ],
   "metadata": {
    "collapsed": false,
    "pycharm": {
     "name": "#%%\n"
    }
   }
  },
  {
   "cell_type": "code",
   "execution_count": 4,
   "outputs": [
    {
     "name": "stderr",
     "output_type": "stream",
     "text": [
      "100%|██████████| 26/26 [00:20<00:00,  1.26it/s]\n"
     ]
    }
   ],
   "source": [
    "full_data = DataObj('data')"
   ],
   "metadata": {
    "collapsed": false,
    "pycharm": {
     "name": "#%%\n"
    }
   }
  },
  {
   "cell_type": "code",
   "execution_count": 6,
   "outputs": [
    {
     "data": {
      "text/plain": "['inn_list',\n 'contract_main_info',\n 'contract_item_info',\n 'contract_termination',\n 'contract_improper_execution',\n 'notification_info',\n 'complaint_info',\n 'participation_statistic',\n 'rnp',\n 'msp_reestr',\n 'special_taxation',\n 'fssp_enforcement_proceedings',\n 'statistic_codes',\n 'bo_str_codes',\n 'bo_balance',\n 'bo_capital_change_1',\n 'bo_capital_change_2',\n 'bo_capital_change_3',\n 'bo_financial_results',\n 'bo_fund_movement',\n 'bo_target_fund_use',\n 'avg_staff_qty',\n 'egrul_info',\n 'egrul_licenses',\n 'egrip_info',\n 'egrip_licenses']"
     },
     "execution_count": 6,
     "metadata": {},
     "output_type": "execute_result"
    }
   ],
   "source": [
    "full_data.keys()"
   ],
   "metadata": {
    "collapsed": false,
    "pycharm": {
     "name": "#%%\n"
    }
   }
  },
  {
   "cell_type": "markdown",
   "source": [
    "## Список ИНН (inn_list)"
   ],
   "metadata": {
    "collapsed": false,
    "pycharm": {
     "name": "#%% md\n"
    }
   }
  },
  {
   "cell_type": "code",
   "execution_count": 16,
   "outputs": [
    {
     "data": {
      "text/plain": "  Название поля                     Описание поля  Примечание\n0           inn  ИНН организации/физического лица         NaN",
      "text/html": "<div>\n<style scoped>\n    .dataframe tbody tr th:only-of-type {\n        vertical-align: middle;\n    }\n\n    .dataframe tbody tr th {\n        vertical-align: top;\n    }\n\n    .dataframe thead th {\n        text-align: right;\n    }\n</style>\n<table border=\"1\" class=\"dataframe\">\n  <thead>\n    <tr style=\"text-align: right;\">\n      <th></th>\n      <th>Название поля</th>\n      <th>Описание поля</th>\n      <th>Примечание</th>\n    </tr>\n  </thead>\n  <tbody>\n    <tr>\n      <th>0</th>\n      <td>inn</td>\n      <td>ИНН организации/физического лица</td>\n      <td>NaN</td>\n    </tr>\n  </tbody>\n</table>\n</div>"
     },
     "execution_count": 16,
     "metadata": {},
     "output_type": "execute_result"
    }
   ],
   "source": [
    "full_data.desc['inn_list']"
   ],
   "metadata": {
    "collapsed": false,
    "pycharm": {
     "name": "#%%\n"
    }
   }
  },
  {
   "cell_type": "code",
   "execution_count": 17,
   "outputs": [
    {
     "data": {
      "text/plain": "                 inn\n0         7719484339\n1         2703065260\n2         6664047737\n3         7718605781\n4         5908078473\n...              ...\n199995  862202982579\n199996    6670390854\n199997    1660179980\n199998    7606037185\n199999    2707005960\n\n[200000 rows x 1 columns]",
      "text/html": "<div>\n<style scoped>\n    .dataframe tbody tr th:only-of-type {\n        vertical-align: middle;\n    }\n\n    .dataframe tbody tr th {\n        vertical-align: top;\n    }\n\n    .dataframe thead th {\n        text-align: right;\n    }\n</style>\n<table border=\"1\" class=\"dataframe\">\n  <thead>\n    <tr style=\"text-align: right;\">\n      <th></th>\n      <th>inn</th>\n    </tr>\n  </thead>\n  <tbody>\n    <tr>\n      <th>0</th>\n      <td>7719484339</td>\n    </tr>\n    <tr>\n      <th>1</th>\n      <td>2703065260</td>\n    </tr>\n    <tr>\n      <th>2</th>\n      <td>6664047737</td>\n    </tr>\n    <tr>\n      <th>3</th>\n      <td>7718605781</td>\n    </tr>\n    <tr>\n      <th>4</th>\n      <td>5908078473</td>\n    </tr>\n    <tr>\n      <th>...</th>\n      <td>...</td>\n    </tr>\n    <tr>\n      <th>199995</th>\n      <td>862202982579</td>\n    </tr>\n    <tr>\n      <th>199996</th>\n      <td>6670390854</td>\n    </tr>\n    <tr>\n      <th>199997</th>\n      <td>1660179980</td>\n    </tr>\n    <tr>\n      <th>199998</th>\n      <td>7606037185</td>\n    </tr>\n    <tr>\n      <th>199999</th>\n      <td>2707005960</td>\n    </tr>\n  </tbody>\n</table>\n<p>200000 rows × 1 columns</p>\n</div>"
     },
     "execution_count": 17,
     "metadata": {},
     "output_type": "execute_result"
    }
   ],
   "source": [
    "full_data.data['inn_list']"
   ],
   "metadata": {
    "collapsed": false,
    "pycharm": {
     "name": "#%%\n"
    }
   }
  },
  {
   "cell_type": "markdown",
   "source": [
    "## Контракты (contract_main_info, contract_item_info, contract_termination, contract_improper_execution)\n",
    "- contract_main_info, contract_termination, contract_improper_execution можно на мёрж\n",
    "- в рамках одного контракта (из contract_main_info) получаем несколько закупок в contract_item_info по id_contract"
   ],
   "metadata": {
    "collapsed": false,
    "pycharm": {
     "name": "#%% md\n"
    }
   }
  },
  {
   "cell_type": "code",
   "execution_count": 18,
   "outputs": [
    {
     "data": {
      "text/plain": "                 Название поля   \n0                  id_contract  \\\n1                 id_procedure   \n2                 customer_inn   \n3                 customer_kpp   \n4                protocol_date   \n5                    sign_date   \n6             min_publish_date   \n7             contract_subject   \n8           contract_price_rub   \n9         advance_sum_percents   \n10  subcontractor_sum_percents   \n11        execution_start_date   \n12          execution_end_date   \n13            enforcement_type   \n14      enforcement_amount_rub   \n15                supplier_inn   \n16                supplier_kpp   \n\n                                        Описание поля   \n0                             Идентификатор контракта  \\\n1                               Идентификатор закупки   \n2                                       ИНН заказчика   \n3                                       КПП заказчика   \n4   Дата подведения результатов определения постав...   \n5                           Дата заключения контракта   \n6       Дата публикации первой версии контракта в ЕИС   \n7                                   Предмет контракта   \n8                                Цена контракта, руб.   \n9         Размер аванса в процентах от цены контракта   \n10  Объем привлечения к исполнению контракта субпо...   \n11                   Дата начала исполнения контракта   \n12                Дата окончания исполнения контракта   \n13                   Обеспечение исполнения контракта   \n14       Сумма обеспечения исполнения контракта, руб.   \n15                                     ИНН поставщика   \n16                                     КПП поставщика   \n\n                                           Примечание  \n0                                                 NaN  \n1                                                 NaN  \n2                                                 NaN  \n3                                                 NaN  \n4                                                 NaN  \n5                                                 NaN  \n6                                                 NaN  \n7                                                 NaN  \n8                                                 NaN  \n9                                                 NaN  \n10                                                NaN  \n11                                                NaN  \n12                                                NaN  \n13  Допустимые значения:\\nbankGuarantee - Банковск...  \n14                                                NaN  \n15                                                NaN  \n16                                                NaN  ",
      "text/html": "<div>\n<style scoped>\n    .dataframe tbody tr th:only-of-type {\n        vertical-align: middle;\n    }\n\n    .dataframe tbody tr th {\n        vertical-align: top;\n    }\n\n    .dataframe thead th {\n        text-align: right;\n    }\n</style>\n<table border=\"1\" class=\"dataframe\">\n  <thead>\n    <tr style=\"text-align: right;\">\n      <th></th>\n      <th>Название поля</th>\n      <th>Описание поля</th>\n      <th>Примечание</th>\n    </tr>\n  </thead>\n  <tbody>\n    <tr>\n      <th>0</th>\n      <td>id_contract</td>\n      <td>Идентификатор контракта</td>\n      <td>NaN</td>\n    </tr>\n    <tr>\n      <th>1</th>\n      <td>id_procedure</td>\n      <td>Идентификатор закупки</td>\n      <td>NaN</td>\n    </tr>\n    <tr>\n      <th>2</th>\n      <td>customer_inn</td>\n      <td>ИНН заказчика</td>\n      <td>NaN</td>\n    </tr>\n    <tr>\n      <th>3</th>\n      <td>customer_kpp</td>\n      <td>КПП заказчика</td>\n      <td>NaN</td>\n    </tr>\n    <tr>\n      <th>4</th>\n      <td>protocol_date</td>\n      <td>Дата подведения результатов определения постав...</td>\n      <td>NaN</td>\n    </tr>\n    <tr>\n      <th>5</th>\n      <td>sign_date</td>\n      <td>Дата заключения контракта</td>\n      <td>NaN</td>\n    </tr>\n    <tr>\n      <th>6</th>\n      <td>min_publish_date</td>\n      <td>Дата публикации первой версии контракта в ЕИС</td>\n      <td>NaN</td>\n    </tr>\n    <tr>\n      <th>7</th>\n      <td>contract_subject</td>\n      <td>Предмет контракта</td>\n      <td>NaN</td>\n    </tr>\n    <tr>\n      <th>8</th>\n      <td>contract_price_rub</td>\n      <td>Цена контракта, руб.</td>\n      <td>NaN</td>\n    </tr>\n    <tr>\n      <th>9</th>\n      <td>advance_sum_percents</td>\n      <td>Размер аванса в процентах от цены контракта</td>\n      <td>NaN</td>\n    </tr>\n    <tr>\n      <th>10</th>\n      <td>subcontractor_sum_percents</td>\n      <td>Объем привлечения к исполнению контракта субпо...</td>\n      <td>NaN</td>\n    </tr>\n    <tr>\n      <th>11</th>\n      <td>execution_start_date</td>\n      <td>Дата начала исполнения контракта</td>\n      <td>NaN</td>\n    </tr>\n    <tr>\n      <th>12</th>\n      <td>execution_end_date</td>\n      <td>Дата окончания исполнения контракта</td>\n      <td>NaN</td>\n    </tr>\n    <tr>\n      <th>13</th>\n      <td>enforcement_type</td>\n      <td>Обеспечение исполнения контракта</td>\n      <td>Допустимые значения:\\nbankGuarantee - Банковск...</td>\n    </tr>\n    <tr>\n      <th>14</th>\n      <td>enforcement_amount_rub</td>\n      <td>Сумма обеспечения исполнения контракта, руб.</td>\n      <td>NaN</td>\n    </tr>\n    <tr>\n      <th>15</th>\n      <td>supplier_inn</td>\n      <td>ИНН поставщика</td>\n      <td>NaN</td>\n    </tr>\n    <tr>\n      <th>16</th>\n      <td>supplier_kpp</td>\n      <td>КПП поставщика</td>\n      <td>NaN</td>\n    </tr>\n  </tbody>\n</table>\n</div>"
     },
     "execution_count": 18,
     "metadata": {},
     "output_type": "execute_result"
    }
   ],
   "source": [
    "full_data.desc['contract_main_info']"
   ],
   "metadata": {
    "collapsed": false,
    "pycharm": {
     "name": "#%%\n"
    }
   }
  },
  {
   "cell_type": "code",
   "execution_count": 19,
   "outputs": [
    {
     "data": {
      "text/plain": "    Название поля              Описание поля  Примечание\n0     id_contract    Идентификатор контракта         NaN\n1  tru_okpd2_code  Код ОКПД2 объекта закупки         NaN",
      "text/html": "<div>\n<style scoped>\n    .dataframe tbody tr th:only-of-type {\n        vertical-align: middle;\n    }\n\n    .dataframe tbody tr th {\n        vertical-align: top;\n    }\n\n    .dataframe thead th {\n        text-align: right;\n    }\n</style>\n<table border=\"1\" class=\"dataframe\">\n  <thead>\n    <tr style=\"text-align: right;\">\n      <th></th>\n      <th>Название поля</th>\n      <th>Описание поля</th>\n      <th>Примечание</th>\n    </tr>\n  </thead>\n  <tbody>\n    <tr>\n      <th>0</th>\n      <td>id_contract</td>\n      <td>Идентификатор контракта</td>\n      <td>NaN</td>\n    </tr>\n    <tr>\n      <th>1</th>\n      <td>tru_okpd2_code</td>\n      <td>Код ОКПД2 объекта закупки</td>\n      <td>NaN</td>\n    </tr>\n  </tbody>\n</table>\n</div>"
     },
     "execution_count": 19,
     "metadata": {},
     "output_type": "execute_result"
    }
   ],
   "source": [
    "full_data.desc['contract_item_info']"
   ],
   "metadata": {
    "collapsed": false,
    "pycharm": {
     "name": "#%%\n"
    }
   }
  },
  {
   "cell_type": "code",
   "execution_count": 20,
   "outputs": [
    {
     "data": {
      "text/plain": "        Название поля                                      Описание поля   \n0         id_contract                            Идентификатор контракта  \\\n1  t_termination_date  Дата прекращения действия (расторжения) контракта   \n2       t_reason_info  Причина расторжения контракта и реквизиты доку...   \n3       t_reason_name       Наименование основания расторжения контракта   \n\n   Примечание  \n0         NaN  \n1         NaN  \n2         NaN  \n3         NaN  ",
      "text/html": "<div>\n<style scoped>\n    .dataframe tbody tr th:only-of-type {\n        vertical-align: middle;\n    }\n\n    .dataframe tbody tr th {\n        vertical-align: top;\n    }\n\n    .dataframe thead th {\n        text-align: right;\n    }\n</style>\n<table border=\"1\" class=\"dataframe\">\n  <thead>\n    <tr style=\"text-align: right;\">\n      <th></th>\n      <th>Название поля</th>\n      <th>Описание поля</th>\n      <th>Примечание</th>\n    </tr>\n  </thead>\n  <tbody>\n    <tr>\n      <th>0</th>\n      <td>id_contract</td>\n      <td>Идентификатор контракта</td>\n      <td>NaN</td>\n    </tr>\n    <tr>\n      <th>1</th>\n      <td>t_termination_date</td>\n      <td>Дата прекращения действия (расторжения) контракта</td>\n      <td>NaN</td>\n    </tr>\n    <tr>\n      <th>2</th>\n      <td>t_reason_info</td>\n      <td>Причина расторжения контракта и реквизиты доку...</td>\n      <td>NaN</td>\n    </tr>\n    <tr>\n      <th>3</th>\n      <td>t_reason_name</td>\n      <td>Наименование основания расторжения контракта</td>\n      <td>NaN</td>\n    </tr>\n  </tbody>\n</table>\n</div>"
     },
     "execution_count": 20,
     "metadata": {},
     "output_type": "execute_result"
    }
   ],
   "source": [
    "full_data.desc['contract_termination']"
   ],
   "metadata": {
    "collapsed": false,
    "pycharm": {
     "name": "#%%\n"
    }
   }
  },
  {
   "cell_type": "code",
   "execution_count": 21,
   "outputs": [
    {
     "data": {
      "text/plain": "          Название поля                                      Описание поля   \n0           id_contract                            Идентификатор контракта  \\\n1  e_improper_execution  Информация о ненадлежащем исполнении или неисп...   \n2  e_doc_execution_name             Дата документа об исполнении контракта   \n3  e_doc_execution_date     Наименование документа об исполнении контракта   \n\n   Примечание  \n0         NaN  \n1         NaN  \n2         NaN  \n3         NaN  ",
      "text/html": "<div>\n<style scoped>\n    .dataframe tbody tr th:only-of-type {\n        vertical-align: middle;\n    }\n\n    .dataframe tbody tr th {\n        vertical-align: top;\n    }\n\n    .dataframe thead th {\n        text-align: right;\n    }\n</style>\n<table border=\"1\" class=\"dataframe\">\n  <thead>\n    <tr style=\"text-align: right;\">\n      <th></th>\n      <th>Название поля</th>\n      <th>Описание поля</th>\n      <th>Примечание</th>\n    </tr>\n  </thead>\n  <tbody>\n    <tr>\n      <th>0</th>\n      <td>id_contract</td>\n      <td>Идентификатор контракта</td>\n      <td>NaN</td>\n    </tr>\n    <tr>\n      <th>1</th>\n      <td>e_improper_execution</td>\n      <td>Информация о ненадлежащем исполнении или неисп...</td>\n      <td>NaN</td>\n    </tr>\n    <tr>\n      <th>2</th>\n      <td>e_doc_execution_name</td>\n      <td>Дата документа об исполнении контракта</td>\n      <td>NaN</td>\n    </tr>\n    <tr>\n      <th>3</th>\n      <td>e_doc_execution_date</td>\n      <td>Наименование документа об исполнении контракта</td>\n      <td>NaN</td>\n    </tr>\n  </tbody>\n</table>\n</div>"
     },
     "execution_count": 21,
     "metadata": {},
     "output_type": "execute_result"
    }
   ],
   "source": [
    "full_data.desc['contract_improper_execution']"
   ],
   "metadata": {
    "collapsed": false,
    "pycharm": {
     "name": "#%%\n"
    }
   }
  },
  {
   "cell_type": "code",
   "execution_count": 29,
   "outputs": [
    {
     "data": {
      "text/plain": "2679190"
     },
     "execution_count": 29,
     "metadata": {},
     "output_type": "execute_result"
    }
   ],
   "source": [
    "merged_contract = pd.merge(full_data.data['contract_main_info'],\n",
    "                           full_data.data['contract_termination'], on='id_contract', how='outer')\n",
    "merged_contract = pd.merge(merged_contract,\n",
    "                           full_data.data['contract_improper_execution'], on='id_contract', how='outer')\n",
    "len(merged_contract)"
   ],
   "metadata": {
    "collapsed": false,
    "pycharm": {
     "name": "#%%\n"
    }
   }
  },
  {
   "cell_type": "code",
   "execution_count": 31,
   "outputs": [],
   "source": [
    "merged_contract.to_csv('data/contracts.csv', sep=';')"
   ],
   "metadata": {
    "collapsed": false,
    "pycharm": {
     "name": "#%%\n"
    }
   }
  },
  {
   "cell_type": "code",
   "execution_count": 32,
   "outputs": [
    {
     "data": {
      "text/plain": "   id_contract  id_procedure  customer_inn  customer_kpp protocol_date   \n0     11694128           NaN    7309900546     730901001           NaN  \\\n1      6476238           NaN    2221037355     222101001           NaN   \n2      8685287           NaN    3329010657     332901001           NaN   \n3      9127977           NaN    2221037355     222101001           NaN   \n4      7086116           NaN    2221037355     222101001           NaN   \n\n    sign_date min_publish_date contract_subject  contract_price_rub   \n0  2019-09-23       2019-09-30   Электроэнергия           120603.88  \\\n1  2019-03-25       2019-03-26              NaN            66536.52   \n2  2019-03-26       2019-03-27              NaN           330000.00   \n3  2019-04-29       2019-04-30              NaN            36913.34   \n4  2019-05-06       2019-05-07              NaN            18308.07   \n\n   advance_sum_percents  ...  enforcement_type enforcement_amount_rub   \n0                   NaN  ...               NaN                    NaN  \\\n1                   NaN  ...               NaN                    NaN   \n2                   NaN  ...               NaN                    NaN   \n3                   NaN  ...               NaN                    NaN   \n4                   NaN  ...               NaN                    NaN   \n\n   supplier_inn supplier_kpp  t_termination_date   \n0  7.327012e+09  732701001.0                 NaN  \\\n1  2.225164e+09  222501001.0          2019-04-18   \n2  7.704440e+09  332701001.0          2020-02-03   \n3  2.225164e+09  222501001.0                 NaN   \n4  2.224181e+09  222401001.0                 NaN   \n\n                                       t_reason_info      t_reason_name   \n0                                                NaN                NaN  \\\n1  В связи с передачей объекта в другую управляющ...  Соглашение сторон   \n2                                  Соглашение сторон  Соглашение сторон   \n3                                                NaN                NaN   \n4                                                NaN                NaN   \n\n  e_improper_execution e_doc_execution_name e_doc_execution_date  \n0                  NaN                  NaN                  NaN  \n1                  NaN                  NaN                  NaN  \n2                  NaN                  NaN                  NaN  \n3                  NaN                  NaN                  NaN  \n4                  NaN                  NaN                  NaN  \n\n[5 rows x 23 columns]",
      "text/html": "<div>\n<style scoped>\n    .dataframe tbody tr th:only-of-type {\n        vertical-align: middle;\n    }\n\n    .dataframe tbody tr th {\n        vertical-align: top;\n    }\n\n    .dataframe thead th {\n        text-align: right;\n    }\n</style>\n<table border=\"1\" class=\"dataframe\">\n  <thead>\n    <tr style=\"text-align: right;\">\n      <th></th>\n      <th>id_contract</th>\n      <th>id_procedure</th>\n      <th>customer_inn</th>\n      <th>customer_kpp</th>\n      <th>protocol_date</th>\n      <th>sign_date</th>\n      <th>min_publish_date</th>\n      <th>contract_subject</th>\n      <th>contract_price_rub</th>\n      <th>advance_sum_percents</th>\n      <th>...</th>\n      <th>enforcement_type</th>\n      <th>enforcement_amount_rub</th>\n      <th>supplier_inn</th>\n      <th>supplier_kpp</th>\n      <th>t_termination_date</th>\n      <th>t_reason_info</th>\n      <th>t_reason_name</th>\n      <th>e_improper_execution</th>\n      <th>e_doc_execution_name</th>\n      <th>e_doc_execution_date</th>\n    </tr>\n  </thead>\n  <tbody>\n    <tr>\n      <th>0</th>\n      <td>11694128</td>\n      <td>NaN</td>\n      <td>7309900546</td>\n      <td>730901001</td>\n      <td>NaN</td>\n      <td>2019-09-23</td>\n      <td>2019-09-30</td>\n      <td>Электроэнергия</td>\n      <td>120603.88</td>\n      <td>NaN</td>\n      <td>...</td>\n      <td>NaN</td>\n      <td>NaN</td>\n      <td>7.327012e+09</td>\n      <td>732701001.0</td>\n      <td>NaN</td>\n      <td>NaN</td>\n      <td>NaN</td>\n      <td>NaN</td>\n      <td>NaN</td>\n      <td>NaN</td>\n    </tr>\n    <tr>\n      <th>1</th>\n      <td>6476238</td>\n      <td>NaN</td>\n      <td>2221037355</td>\n      <td>222101001</td>\n      <td>NaN</td>\n      <td>2019-03-25</td>\n      <td>2019-03-26</td>\n      <td>NaN</td>\n      <td>66536.52</td>\n      <td>NaN</td>\n      <td>...</td>\n      <td>NaN</td>\n      <td>NaN</td>\n      <td>2.225164e+09</td>\n      <td>222501001.0</td>\n      <td>2019-04-18</td>\n      <td>В связи с передачей объекта в другую управляющ...</td>\n      <td>Соглашение сторон</td>\n      <td>NaN</td>\n      <td>NaN</td>\n      <td>NaN</td>\n    </tr>\n    <tr>\n      <th>2</th>\n      <td>8685287</td>\n      <td>NaN</td>\n      <td>3329010657</td>\n      <td>332901001</td>\n      <td>NaN</td>\n      <td>2019-03-26</td>\n      <td>2019-03-27</td>\n      <td>NaN</td>\n      <td>330000.00</td>\n      <td>NaN</td>\n      <td>...</td>\n      <td>NaN</td>\n      <td>NaN</td>\n      <td>7.704440e+09</td>\n      <td>332701001.0</td>\n      <td>2020-02-03</td>\n      <td>Соглашение сторон</td>\n      <td>Соглашение сторон</td>\n      <td>NaN</td>\n      <td>NaN</td>\n      <td>NaN</td>\n    </tr>\n    <tr>\n      <th>3</th>\n      <td>9127977</td>\n      <td>NaN</td>\n      <td>2221037355</td>\n      <td>222101001</td>\n      <td>NaN</td>\n      <td>2019-04-29</td>\n      <td>2019-04-30</td>\n      <td>NaN</td>\n      <td>36913.34</td>\n      <td>NaN</td>\n      <td>...</td>\n      <td>NaN</td>\n      <td>NaN</td>\n      <td>2.225164e+09</td>\n      <td>222501001.0</td>\n      <td>NaN</td>\n      <td>NaN</td>\n      <td>NaN</td>\n      <td>NaN</td>\n      <td>NaN</td>\n      <td>NaN</td>\n    </tr>\n    <tr>\n      <th>4</th>\n      <td>7086116</td>\n      <td>NaN</td>\n      <td>2221037355</td>\n      <td>222101001</td>\n      <td>NaN</td>\n      <td>2019-05-06</td>\n      <td>2019-05-07</td>\n      <td>NaN</td>\n      <td>18308.07</td>\n      <td>NaN</td>\n      <td>...</td>\n      <td>NaN</td>\n      <td>NaN</td>\n      <td>2.224181e+09</td>\n      <td>222401001.0</td>\n      <td>NaN</td>\n      <td>NaN</td>\n      <td>NaN</td>\n      <td>NaN</td>\n      <td>NaN</td>\n      <td>NaN</td>\n    </tr>\n  </tbody>\n</table>\n<p>5 rows × 23 columns</p>\n</div>"
     },
     "execution_count": 32,
     "metadata": {},
     "output_type": "execute_result"
    }
   ],
   "source": [
    "merged_contract.head(5)"
   ],
   "metadata": {
    "collapsed": false,
    "pycharm": {
     "name": "#%%\n"
    }
   }
  },
  {
   "cell_type": "markdown",
   "source": [
    "## Закупки\n",
    "- Из таблицы контрактов получаем закупку по id_procedure\n",
    "- currency code не нужен, везде RUB\n",
    "- электронный код есть только при электронном аукционе"
   ],
   "metadata": {
    "collapsed": false,
    "pycharm": {
     "name": "#%% md\n"
    }
   }
  },
  {
   "cell_type": "code",
   "execution_count": 40,
   "outputs": [
    {
     "data": {
      "text/plain": "        Название поля                                      Описание поля   \n0        id_procedure                              Идентификатор закупки  \\\n1    min_publish_date      Дата публикации первой версии извещения в ЕИС   \n2            etp_code  Кодовое наименование электронной торговой площ...   \n3        customer_inn                                      ИНН заказчика   \n4        customer_kpp                                      КПП заказчика   \n5  customer_max_price            Начальная (максимальная) цена контракта   \n6       currency_code                                         Код валюты   \n7        placing_name     Наименование подспособа определения поставщика   \n8  one_side_rejection  Возможность одностороннего отказа от исполнени...   \n\n   Примечание  \n0         NaN  \n1         NaN  \n2         NaN  \n3         NaN  \n4         NaN  \n5         NaN  \n6         NaN  \n7         NaN  \n8         NaN  ",
      "text/html": "<div>\n<style scoped>\n    .dataframe tbody tr th:only-of-type {\n        vertical-align: middle;\n    }\n\n    .dataframe tbody tr th {\n        vertical-align: top;\n    }\n\n    .dataframe thead th {\n        text-align: right;\n    }\n</style>\n<table border=\"1\" class=\"dataframe\">\n  <thead>\n    <tr style=\"text-align: right;\">\n      <th></th>\n      <th>Название поля</th>\n      <th>Описание поля</th>\n      <th>Примечание</th>\n    </tr>\n  </thead>\n  <tbody>\n    <tr>\n      <th>0</th>\n      <td>id_procedure</td>\n      <td>Идентификатор закупки</td>\n      <td>NaN</td>\n    </tr>\n    <tr>\n      <th>1</th>\n      <td>min_publish_date</td>\n      <td>Дата публикации первой версии извещения в ЕИС</td>\n      <td>NaN</td>\n    </tr>\n    <tr>\n      <th>2</th>\n      <td>etp_code</td>\n      <td>Кодовое наименование электронной торговой площ...</td>\n      <td>NaN</td>\n    </tr>\n    <tr>\n      <th>3</th>\n      <td>customer_inn</td>\n      <td>ИНН заказчика</td>\n      <td>NaN</td>\n    </tr>\n    <tr>\n      <th>4</th>\n      <td>customer_kpp</td>\n      <td>КПП заказчика</td>\n      <td>NaN</td>\n    </tr>\n    <tr>\n      <th>5</th>\n      <td>customer_max_price</td>\n      <td>Начальная (максимальная) цена контракта</td>\n      <td>NaN</td>\n    </tr>\n    <tr>\n      <th>6</th>\n      <td>currency_code</td>\n      <td>Код валюты</td>\n      <td>NaN</td>\n    </tr>\n    <tr>\n      <th>7</th>\n      <td>placing_name</td>\n      <td>Наименование подспособа определения поставщика</td>\n      <td>NaN</td>\n    </tr>\n    <tr>\n      <th>8</th>\n      <td>one_side_rejection</td>\n      <td>Возможность одностороннего отказа от исполнени...</td>\n      <td>NaN</td>\n    </tr>\n  </tbody>\n</table>\n</div>"
     },
     "execution_count": 40,
     "metadata": {},
     "output_type": "execute_result"
    }
   ],
   "source": [
    "full_data.desc['notification_info']"
   ],
   "metadata": {
    "collapsed": false,
    "pycharm": {
     "name": "#%%\n"
    }
   }
  },
  {
   "cell_type": "code",
   "execution_count": 41,
   "outputs": [
    {
     "data": {
      "text/plain": "         id_procedure         min_publish_date   \n0                   6  2018-01-10 14:34:52.573  \\\n1                   8  2018-03-30 16:59:52.731   \n2                   9  2018-03-13 04:40:09.858   \n3                  21  2018-01-17 09:14:32.233   \n4                  19  2018-02-11 19:06:07.781   \n...               ...                      ...   \n4169096       7977360  2019-11-29 09:17:47.308   \n4169097       7977360  2019-11-29 09:17:47.308   \n4169098       8098278  2019-12-18 20:09:00.814   \n4169099       8193604  2019-12-31 13:54:26.862   \n4169100       8480222  2019-11-07 11:47:35.024   \n\n                                 etp_code  customer_inn  customer_kpp   \n0                                     NaN     903006317      90301001  \\\n1                                     NaN    3605005810     360501001   \n2                                     NaN    5017045915     501701001   \n3                                     NaN    1818002867     183801001   \n4                                     NaN     326000278      32601001   \n...                                   ...           ...           ...   \n4169096  87041faed2a7a3afe49926bec81e5b1c    7814758290     781401001   \n4169097  87041faed2a7a3afe49926bec81e5b1c    7814758163     781401001   \n4169098  87041faed2a7a3afe49926bec81e5b1c    7710066231     771001001   \n4169099  78e0f34c8eef6fd5bb3c299f0bd8e8d0    7720261827     890101001   \n4169100  87041faed2a7a3afe49926bec81e5b1c     511001011      51101001   \n\n         customer_max_price   \n0              7.620000e+04  \\\n1              1.800000e+04   \n2              1.580000e+05   \n3              2.000000e+04   \n4              2.030000e+05   \n...                     ...   \n4169096        1.363630e+06   \n4169097        7.362550e+05   \n4169098        8.919647e+08   \n4169099        4.251274e+09   \n4169100        3.493275e+07   \n\n                                              placing_name one_side_rejection  \n0        Закупка у единственного поставщика (подрядчика...                NaN  \n1        Закупка у единственного поставщика (подрядчика...                NaN  \n2        Закупка у единственного поставщика (подрядчика...                NaN  \n3        Закупка у единственного поставщика (подрядчика...                NaN  \n4        Закупка у единственного поставщика (подрядчика...                NaN  \n...                                                    ...                ...  \n4169096                                Электронный аукцион               True  \n4169097                                Электронный аукцион               True  \n4169098                                Электронный аукцион               True  \n4169099               Открытый конкурс в электронной форме                NaN  \n4169100  Электронный аукцион на проведение работ по стр...                NaN  \n\n[4169101 rows x 8 columns]",
      "text/html": "<div>\n<style scoped>\n    .dataframe tbody tr th:only-of-type {\n        vertical-align: middle;\n    }\n\n    .dataframe tbody tr th {\n        vertical-align: top;\n    }\n\n    .dataframe thead th {\n        text-align: right;\n    }\n</style>\n<table border=\"1\" class=\"dataframe\">\n  <thead>\n    <tr style=\"text-align: right;\">\n      <th></th>\n      <th>id_procedure</th>\n      <th>min_publish_date</th>\n      <th>etp_code</th>\n      <th>customer_inn</th>\n      <th>customer_kpp</th>\n      <th>customer_max_price</th>\n      <th>placing_name</th>\n      <th>one_side_rejection</th>\n    </tr>\n  </thead>\n  <tbody>\n    <tr>\n      <th>0</th>\n      <td>6</td>\n      <td>2018-01-10 14:34:52.573</td>\n      <td>NaN</td>\n      <td>903006317</td>\n      <td>90301001</td>\n      <td>7.620000e+04</td>\n      <td>Закупка у единственного поставщика (подрядчика...</td>\n      <td>NaN</td>\n    </tr>\n    <tr>\n      <th>1</th>\n      <td>8</td>\n      <td>2018-03-30 16:59:52.731</td>\n      <td>NaN</td>\n      <td>3605005810</td>\n      <td>360501001</td>\n      <td>1.800000e+04</td>\n      <td>Закупка у единственного поставщика (подрядчика...</td>\n      <td>NaN</td>\n    </tr>\n    <tr>\n      <th>2</th>\n      <td>9</td>\n      <td>2018-03-13 04:40:09.858</td>\n      <td>NaN</td>\n      <td>5017045915</td>\n      <td>501701001</td>\n      <td>1.580000e+05</td>\n      <td>Закупка у единственного поставщика (подрядчика...</td>\n      <td>NaN</td>\n    </tr>\n    <tr>\n      <th>3</th>\n      <td>21</td>\n      <td>2018-01-17 09:14:32.233</td>\n      <td>NaN</td>\n      <td>1818002867</td>\n      <td>183801001</td>\n      <td>2.000000e+04</td>\n      <td>Закупка у единственного поставщика (подрядчика...</td>\n      <td>NaN</td>\n    </tr>\n    <tr>\n      <th>4</th>\n      <td>19</td>\n      <td>2018-02-11 19:06:07.781</td>\n      <td>NaN</td>\n      <td>326000278</td>\n      <td>32601001</td>\n      <td>2.030000e+05</td>\n      <td>Закупка у единственного поставщика (подрядчика...</td>\n      <td>NaN</td>\n    </tr>\n    <tr>\n      <th>...</th>\n      <td>...</td>\n      <td>...</td>\n      <td>...</td>\n      <td>...</td>\n      <td>...</td>\n      <td>...</td>\n      <td>...</td>\n      <td>...</td>\n    </tr>\n    <tr>\n      <th>4169096</th>\n      <td>7977360</td>\n      <td>2019-11-29 09:17:47.308</td>\n      <td>87041faed2a7a3afe49926bec81e5b1c</td>\n      <td>7814758290</td>\n      <td>781401001</td>\n      <td>1.363630e+06</td>\n      <td>Электронный аукцион</td>\n      <td>True</td>\n    </tr>\n    <tr>\n      <th>4169097</th>\n      <td>7977360</td>\n      <td>2019-11-29 09:17:47.308</td>\n      <td>87041faed2a7a3afe49926bec81e5b1c</td>\n      <td>7814758163</td>\n      <td>781401001</td>\n      <td>7.362550e+05</td>\n      <td>Электронный аукцион</td>\n      <td>True</td>\n    </tr>\n    <tr>\n      <th>4169098</th>\n      <td>8098278</td>\n      <td>2019-12-18 20:09:00.814</td>\n      <td>87041faed2a7a3afe49926bec81e5b1c</td>\n      <td>7710066231</td>\n      <td>771001001</td>\n      <td>8.919647e+08</td>\n      <td>Электронный аукцион</td>\n      <td>True</td>\n    </tr>\n    <tr>\n      <th>4169099</th>\n      <td>8193604</td>\n      <td>2019-12-31 13:54:26.862</td>\n      <td>78e0f34c8eef6fd5bb3c299f0bd8e8d0</td>\n      <td>7720261827</td>\n      <td>890101001</td>\n      <td>4.251274e+09</td>\n      <td>Открытый конкурс в электронной форме</td>\n      <td>NaN</td>\n    </tr>\n    <tr>\n      <th>4169100</th>\n      <td>8480222</td>\n      <td>2019-11-07 11:47:35.024</td>\n      <td>87041faed2a7a3afe49926bec81e5b1c</td>\n      <td>511001011</td>\n      <td>51101001</td>\n      <td>3.493275e+07</td>\n      <td>Электронный аукцион на проведение работ по стр...</td>\n      <td>NaN</td>\n    </tr>\n  </tbody>\n</table>\n<p>4169101 rows × 8 columns</p>\n</div>"
     },
     "execution_count": 41,
     "metadata": {},
     "output_type": "execute_result"
    }
   ],
   "source": [
    "full_data.data['notification_info']"
   ],
   "metadata": {
    "collapsed": false,
    "pycharm": {
     "name": "#%%\n"
    }
   }
  },
  {
   "cell_type": "code",
   "execution_count": 36,
   "outputs": [
    {
     "data": {
      "text/plain": "array(['Закупка у единственного поставщика (подрядчика, исполнителя)',\n       'Электронный аукцион', 'Открытый конкурс',\n       'Открытый конкурс для заключения договора на проведение аудита бухгалтерской (финансовой) отчетности (согласно ч. 4 ст. 5 Федерального закона от 30.12.2008г. № 307-ФЗ)',\n       'Запрос котировок', 'Запрос предложений', 'Повторный конкурс',\n       'Конкурс с ограниченным участием', 'Предварительный отбор',\n       'Электронный аукцион для заключения энергосервисного контракта',\n       'Двухэтапный конкурс', 'Закрытый аукцион',\n       'Повторный конкурс с ограниченным участием', 'Закрытый конкурс',\n       'Конкурс для заключения энергосервисного контракта',\n       'Запрос котировок на выполнение работ по строительству, реконструкции, капитальному ремонту, а также проектных, изыскательских работ в отношении олимпийских объектов и строительству домов взамен земельных участков и объектов недвижимого имущества, изымаемых в целях размещения олимпийских объектов (часть 15 статьи 112 Федерального закона №44-ФЗ)',\n       'Запрос котировок для оказания скорой, в том числе скорой специализированной, медицинской помощи в экстренной или неотложной форме и нормального жизнеобеспечения граждан (в соответствии со Статьей 76 Федерального закона № 44-ФЗ)',\n       'Запрос котировок для заключения энергосервисного контракта',\n       'Запрос предложений в электронной форме',\n       'Запрос котировок в электронной форме',\n       'Электронный аукцион для торгов по обращению с твердыми коммунальными отходами',\n       'Открытый конкурс в электронной форме',\n       'Конкурс с ограниченным участием в электронной форме',\n       'Открытый конкурс в электронной форме для заключения энергосервисного контракта',\n       'Открытый конкурс в электронной форме для заключения договора на проведение аудита бухгалтерской (финансовой) отчетности (согласно ч. 4 ст. 5 Федерального закона от 30.12.2008г. № 307-ФЗ)',\n       'Запрос котировок в соответствии со ст. 75 Закона № 44-ФЗ',\n       'Двухэтапный конкурс в электронной форме',\n       'Открытый конкурс в электронной форме для заключения контракта в сфере науки, культуры или искусства',\n       'Закрытый конкурс с ограниченным участием',\n       'Запрос котировок в электронной форме для заключения энергосервисного контракта',\n       'Конкурс с ограниченным участием для заключения контракта в сфере науки, культуры или искусства',\n       'Двухэтапный конкурс для заключения контракта в сфере науки, культуры или искусства',\n       'Электронный аукцион на проведение работ по строительству, реконструкции, кап. ремонту, сносу объекта кап. строительства, предусматривающих проектную документацию, утвержденную в порядке, установленном законодательством о градостроительной деятельности'],\n      dtype=object)"
     },
     "execution_count": 36,
     "metadata": {},
     "output_type": "execute_result"
    }
   ],
   "source": [
    "full_data.data['notification_info']['placing_name'].unique()"
   ],
   "metadata": {
    "collapsed": false,
    "pycharm": {
     "name": "#%%\n"
    }
   }
  },
  {
   "cell_type": "code",
   "execution_count": 39,
   "outputs": [
    {
     "ename": "KeyError",
     "evalue": "'currency_code'",
     "output_type": "error",
     "traceback": [
      "\u001B[1;31m---------------------------------------------------------------------------\u001B[0m",
      "\u001B[1;31mKeyError\u001B[0m                                  Traceback (most recent call last)",
      "File \u001B[1;32m~\\PycharmProjects\\RLTHack\\venv\\lib\\site-packages\\pandas\\core\\indexes\\base.py:3652\u001B[0m, in \u001B[0;36mIndex.get_loc\u001B[1;34m(self, key)\u001B[0m\n\u001B[0;32m   3651\u001B[0m \u001B[38;5;28;01mtry\u001B[39;00m:\n\u001B[1;32m-> 3652\u001B[0m     \u001B[38;5;28;01mreturn\u001B[39;00m \u001B[38;5;28;43mself\u001B[39;49m\u001B[38;5;241;43m.\u001B[39;49m\u001B[43m_engine\u001B[49m\u001B[38;5;241;43m.\u001B[39;49m\u001B[43mget_loc\u001B[49m\u001B[43m(\u001B[49m\u001B[43mcasted_key\u001B[49m\u001B[43m)\u001B[49m\n\u001B[0;32m   3653\u001B[0m \u001B[38;5;28;01mexcept\u001B[39;00m \u001B[38;5;167;01mKeyError\u001B[39;00m \u001B[38;5;28;01mas\u001B[39;00m err:\n",
      "File \u001B[1;32m~\\PycharmProjects\\RLTHack\\venv\\lib\\site-packages\\pandas\\_libs\\index.pyx:147\u001B[0m, in \u001B[0;36mpandas._libs.index.IndexEngine.get_loc\u001B[1;34m()\u001B[0m\n",
      "File \u001B[1;32m~\\PycharmProjects\\RLTHack\\venv\\lib\\site-packages\\pandas\\_libs\\index.pyx:176\u001B[0m, in \u001B[0;36mpandas._libs.index.IndexEngine.get_loc\u001B[1;34m()\u001B[0m\n",
      "File \u001B[1;32mpandas\\_libs\\hashtable_class_helper.pxi:7080\u001B[0m, in \u001B[0;36mpandas._libs.hashtable.PyObjectHashTable.get_item\u001B[1;34m()\u001B[0m\n",
      "File \u001B[1;32mpandas\\_libs\\hashtable_class_helper.pxi:7088\u001B[0m, in \u001B[0;36mpandas._libs.hashtable.PyObjectHashTable.get_item\u001B[1;34m()\u001B[0m\n",
      "\u001B[1;31mKeyError\u001B[0m: 'currency_code'",
      "\nThe above exception was the direct cause of the following exception:\n",
      "\u001B[1;31mKeyError\u001B[0m                                  Traceback (most recent call last)",
      "Cell \u001B[1;32mIn[39], line 1\u001B[0m\n\u001B[1;32m----> 1\u001B[0m \u001B[43mfull_data\u001B[49m\u001B[38;5;241;43m.\u001B[39;49m\u001B[43mdata\u001B[49m\u001B[43m[\u001B[49m\u001B[38;5;124;43m'\u001B[39;49m\u001B[38;5;124;43mnotification_info\u001B[39;49m\u001B[38;5;124;43m'\u001B[39;49m\u001B[43m]\u001B[49m\u001B[43m[\u001B[49m\u001B[38;5;124;43m'\u001B[39;49m\u001B[38;5;124;43mcurrency_code\u001B[39;49m\u001B[38;5;124;43m'\u001B[39;49m\u001B[43m]\u001B[49m\u001B[38;5;241m.\u001B[39munique()\n",
      "File \u001B[1;32m~\\PycharmProjects\\RLTHack\\venv\\lib\\site-packages\\pandas\\core\\frame.py:3760\u001B[0m, in \u001B[0;36mDataFrame.__getitem__\u001B[1;34m(self, key)\u001B[0m\n\u001B[0;32m   3758\u001B[0m \u001B[38;5;28;01mif\u001B[39;00m \u001B[38;5;28mself\u001B[39m\u001B[38;5;241m.\u001B[39mcolumns\u001B[38;5;241m.\u001B[39mnlevels \u001B[38;5;241m>\u001B[39m \u001B[38;5;241m1\u001B[39m:\n\u001B[0;32m   3759\u001B[0m     \u001B[38;5;28;01mreturn\u001B[39;00m \u001B[38;5;28mself\u001B[39m\u001B[38;5;241m.\u001B[39m_getitem_multilevel(key)\n\u001B[1;32m-> 3760\u001B[0m indexer \u001B[38;5;241m=\u001B[39m \u001B[38;5;28;43mself\u001B[39;49m\u001B[38;5;241;43m.\u001B[39;49m\u001B[43mcolumns\u001B[49m\u001B[38;5;241;43m.\u001B[39;49m\u001B[43mget_loc\u001B[49m\u001B[43m(\u001B[49m\u001B[43mkey\u001B[49m\u001B[43m)\u001B[49m\n\u001B[0;32m   3761\u001B[0m \u001B[38;5;28;01mif\u001B[39;00m is_integer(indexer):\n\u001B[0;32m   3762\u001B[0m     indexer \u001B[38;5;241m=\u001B[39m [indexer]\n",
      "File \u001B[1;32m~\\PycharmProjects\\RLTHack\\venv\\lib\\site-packages\\pandas\\core\\indexes\\base.py:3654\u001B[0m, in \u001B[0;36mIndex.get_loc\u001B[1;34m(self, key)\u001B[0m\n\u001B[0;32m   3652\u001B[0m     \u001B[38;5;28;01mreturn\u001B[39;00m \u001B[38;5;28mself\u001B[39m\u001B[38;5;241m.\u001B[39m_engine\u001B[38;5;241m.\u001B[39mget_loc(casted_key)\n\u001B[0;32m   3653\u001B[0m \u001B[38;5;28;01mexcept\u001B[39;00m \u001B[38;5;167;01mKeyError\u001B[39;00m \u001B[38;5;28;01mas\u001B[39;00m err:\n\u001B[1;32m-> 3654\u001B[0m     \u001B[38;5;28;01mraise\u001B[39;00m \u001B[38;5;167;01mKeyError\u001B[39;00m(key) \u001B[38;5;28;01mfrom\u001B[39;00m \u001B[38;5;21;01merr\u001B[39;00m\n\u001B[0;32m   3655\u001B[0m \u001B[38;5;28;01mexcept\u001B[39;00m \u001B[38;5;167;01mTypeError\u001B[39;00m:\n\u001B[0;32m   3656\u001B[0m     \u001B[38;5;66;03m# If we have a listlike key, _check_indexing_error will raise\u001B[39;00m\n\u001B[0;32m   3657\u001B[0m     \u001B[38;5;66;03m#  InvalidIndexError. Otherwise we fall through and re-raise\u001B[39;00m\n\u001B[0;32m   3658\u001B[0m     \u001B[38;5;66;03m#  the TypeError.\u001B[39;00m\n\u001B[0;32m   3659\u001B[0m     \u001B[38;5;28mself\u001B[39m\u001B[38;5;241m.\u001B[39m_check_indexing_error(key)\n",
      "\u001B[1;31mKeyError\u001B[0m: 'currency_code'"
     ]
    }
   ],
   "source": [
    "full_data.data['notification_info']['currency_code'].unique()"
   ],
   "metadata": {
    "collapsed": false,
    "pycharm": {
     "name": "#%%\n"
    }
   }
  },
  {
   "cell_type": "code",
   "execution_count": 38,
   "outputs": [
    {
     "data": {
      "text/plain": "0          RUB\n1          RUB\n2          RUB\n3          RUB\n4          RUB\n          ... \n4169096    RUB\n4169097    RUB\n4169098    RUB\n4169099    RUB\n4169100    RUB\nName: currency_code, Length: 4169101, dtype: object"
     },
     "execution_count": 38,
     "metadata": {},
     "output_type": "execute_result"
    }
   ],
   "source": [
    "full_data.data['notification_info'].pop('currency_code')"
   ],
   "metadata": {
    "collapsed": false,
    "pycharm": {
     "name": "#%%\n"
    }
   }
  },
  {
   "cell_type": "code",
   "execution_count": 42,
   "outputs": [
    {
     "data": {
      "text/plain": "array([nan, True], dtype=object)"
     },
     "execution_count": 42,
     "metadata": {},
     "output_type": "execute_result"
    }
   ],
   "source": [
    "full_data.data['notification_info']['one_side_rejection'].unique()"
   ],
   "metadata": {
    "collapsed": false,
    "pycharm": {
     "name": "#%%\n"
    }
   }
  },
  {
   "cell_type": "markdown",
   "source": [
    "## Сотрудники (avg_staff_qty)\n",
    "- Есть компании с нулевым количеством сотрудников\n",
    "Это говорит о том, что большинство сотрудников работает по ГПХ или ИНН принадлежит ИП, а не ООО."
   ],
   "metadata": {
    "collapsed": false,
    "pycharm": {
     "name": "#%% md\n"
    }
   }
  },
  {
   "cell_type": "code",
   "execution_count": 13,
   "outputs": [
    {
     "data": {
      "text/plain": "   Название поля                                      Описание поля   \n0            inn                  ИНН организации налогоплательщика  \\\n1  avg_staff_qty  Среднесписочная численность работников организ...   \n\n   Примечание  \n0         NaN  \n1         NaN  ",
      "text/html": "<div>\n<style scoped>\n    .dataframe tbody tr th:only-of-type {\n        vertical-align: middle;\n    }\n\n    .dataframe tbody tr th {\n        vertical-align: top;\n    }\n\n    .dataframe thead th {\n        text-align: right;\n    }\n</style>\n<table border=\"1\" class=\"dataframe\">\n  <thead>\n    <tr style=\"text-align: right;\">\n      <th></th>\n      <th>Название поля</th>\n      <th>Описание поля</th>\n      <th>Примечание</th>\n    </tr>\n  </thead>\n  <tbody>\n    <tr>\n      <th>0</th>\n      <td>inn</td>\n      <td>ИНН организации налогоплательщика</td>\n      <td>NaN</td>\n    </tr>\n    <tr>\n      <th>1</th>\n      <td>avg_staff_qty</td>\n      <td>Среднесписочная численность работников организ...</td>\n      <td>NaN</td>\n    </tr>\n  </tbody>\n</table>\n</div>"
     },
     "execution_count": 13,
     "metadata": {},
     "output_type": "execute_result"
    }
   ],
   "source": [
    "full_data.desc['avg_staff_qty']"
   ],
   "metadata": {
    "collapsed": false,
    "pycharm": {
     "name": "#%%\n"
    }
   }
  },
  {
   "cell_type": "code",
   "execution_count": 14,
   "outputs": [
    {
     "data": {
      "text/plain": "              inn  avg_staff_qty\n0      6164308645              3\n1      5507262154              1\n2      3666121081              1\n3      5610221507              0\n4      6453136177              3\n...           ...            ...\n93767  1001138317              8\n93768  7743839536              1\n93769  3811157720              5\n93770  3811157801              9\n93771  1655083433              7\n\n[93772 rows x 2 columns]",
      "text/html": "<div>\n<style scoped>\n    .dataframe tbody tr th:only-of-type {\n        vertical-align: middle;\n    }\n\n    .dataframe tbody tr th {\n        vertical-align: top;\n    }\n\n    .dataframe thead th {\n        text-align: right;\n    }\n</style>\n<table border=\"1\" class=\"dataframe\">\n  <thead>\n    <tr style=\"text-align: right;\">\n      <th></th>\n      <th>inn</th>\n      <th>avg_staff_qty</th>\n    </tr>\n  </thead>\n  <tbody>\n    <tr>\n      <th>0</th>\n      <td>6164308645</td>\n      <td>3</td>\n    </tr>\n    <tr>\n      <th>1</th>\n      <td>5507262154</td>\n      <td>1</td>\n    </tr>\n    <tr>\n      <th>2</th>\n      <td>3666121081</td>\n      <td>1</td>\n    </tr>\n    <tr>\n      <th>3</th>\n      <td>5610221507</td>\n      <td>0</td>\n    </tr>\n    <tr>\n      <th>4</th>\n      <td>6453136177</td>\n      <td>3</td>\n    </tr>\n    <tr>\n      <th>...</th>\n      <td>...</td>\n      <td>...</td>\n    </tr>\n    <tr>\n      <th>93767</th>\n      <td>1001138317</td>\n      <td>8</td>\n    </tr>\n    <tr>\n      <th>93768</th>\n      <td>7743839536</td>\n      <td>1</td>\n    </tr>\n    <tr>\n      <th>93769</th>\n      <td>3811157720</td>\n      <td>5</td>\n    </tr>\n    <tr>\n      <th>93770</th>\n      <td>3811157801</td>\n      <td>9</td>\n    </tr>\n    <tr>\n      <th>93771</th>\n      <td>1655083433</td>\n      <td>7</td>\n    </tr>\n  </tbody>\n</table>\n<p>93772 rows × 2 columns</p>\n</div>"
     },
     "execution_count": 14,
     "metadata": {},
     "output_type": "execute_result"
    }
   ],
   "source": [
    "full_data.data['avg_staff_qty']"
   ],
   "metadata": {
    "collapsed": false,
    "pycharm": {
     "name": "#%%\n"
    }
   }
  },
  {
   "cell_type": "markdown",
   "source": [
    "## Жалобы (complaint_info)"
   ],
   "metadata": {
    "collapsed": false,
    "pycharm": {
     "name": "#%% md\n"
    }
   }
  },
  {
   "cell_type": "code",
   "execution_count": 43,
   "outputs": [
    {
     "data": {
      "text/plain": "       Название поля                  Описание поля  Примечание\n0       id_complaint           Идентификатор жалобы         NaN\n1       id_procedure          Идентификатор закупки         NaN\n2             status                  Статус жалобы         NaN\n3  processing_result  Результат рассмотрения жалобы         NaN",
      "text/html": "<div>\n<style scoped>\n    .dataframe tbody tr th:only-of-type {\n        vertical-align: middle;\n    }\n\n    .dataframe tbody tr th {\n        vertical-align: top;\n    }\n\n    .dataframe thead th {\n        text-align: right;\n    }\n</style>\n<table border=\"1\" class=\"dataframe\">\n  <thead>\n    <tr style=\"text-align: right;\">\n      <th></th>\n      <th>Название поля</th>\n      <th>Описание поля</th>\n      <th>Примечание</th>\n    </tr>\n  </thead>\n  <tbody>\n    <tr>\n      <th>0</th>\n      <td>id_complaint</td>\n      <td>Идентификатор жалобы</td>\n      <td>NaN</td>\n    </tr>\n    <tr>\n      <th>1</th>\n      <td>id_procedure</td>\n      <td>Идентификатор закупки</td>\n      <td>NaN</td>\n    </tr>\n    <tr>\n      <th>2</th>\n      <td>status</td>\n      <td>Статус жалобы</td>\n      <td>NaN</td>\n    </tr>\n    <tr>\n      <th>3</th>\n      <td>processing_result</td>\n      <td>Результат рассмотрения жалобы</td>\n      <td>NaN</td>\n    </tr>\n  </tbody>\n</table>\n</div>"
     },
     "execution_count": 43,
     "metadata": {},
     "output_type": "execute_result"
    }
   ],
   "source": [
    "full_data.desc['complaint_info']"
   ],
   "metadata": {
    "collapsed": false,
    "pycharm": {
     "name": "#%%\n"
    }
   }
  },
  {
   "cell_type": "code",
   "execution_count": 9,
   "outputs": [
    {
     "data": {
      "text/plain": "    id_complaint  id_procedure                   status   \n0         299581       6303311              Рассмотрена  \\\n1         293774       6067025              Рассмотрена   \n2         314784       6830257              Рассмотрена   \n3         308753       6830257              Рассмотрена   \n4         296341       6249813              Рассмотрена   \n5         310814       6667339  Отказано в рассмотрении   \n6         260944       4772414              Рассмотрена   \n7         259639       4772414              Рассмотрена   \n8         312984       6641138              Рассмотрена   \n9         295077       6641138              Рассмотрена   \n10        288515       6641138              Рассмотрена   \n11        276113       5496717              Рассмотрена   \n12        276112       5496717              Рассмотрена   \n13        276109       5496717              Рассмотрена   \n14        276106       5496717              Рассмотрена   \n15        276104       5496717              Рассмотрена   \n16        274753       5496717              Рассмотрена   \n17        274752       5496717              Рассмотрена   \n18        276099       5496717                 Отозвана   \n19        276098       5496717                 Отозвана   \n\n                   processing_result  \n0              Признана обоснованной  \n1              Признана обоснованной  \n2   Признана обоснованной (частично)  \n3              Признана обоснованной  \n4            Признана необоснованной  \n5                                NaN  \n6            Признана необоснованной  \n7              Признана обоснованной  \n8              Признана обоснованной  \n9   Признана обоснованной (частично)  \n10             Признана обоснованной  \n11           Признана необоснованной  \n12           Признана необоснованной  \n13           Признана необоснованной  \n14           Признана необоснованной  \n15           Признана необоснованной  \n16  Признана обоснованной (частично)  \n17             Признана обоснованной  \n18                               NaN  \n19                               NaN  ",
      "text/html": "<div>\n<style scoped>\n    .dataframe tbody tr th:only-of-type {\n        vertical-align: middle;\n    }\n\n    .dataframe tbody tr th {\n        vertical-align: top;\n    }\n\n    .dataframe thead th {\n        text-align: right;\n    }\n</style>\n<table border=\"1\" class=\"dataframe\">\n  <thead>\n    <tr style=\"text-align: right;\">\n      <th></th>\n      <th>id_complaint</th>\n      <th>id_procedure</th>\n      <th>status</th>\n      <th>processing_result</th>\n    </tr>\n  </thead>\n  <tbody>\n    <tr>\n      <th>0</th>\n      <td>299581</td>\n      <td>6303311</td>\n      <td>Рассмотрена</td>\n      <td>Признана обоснованной</td>\n    </tr>\n    <tr>\n      <th>1</th>\n      <td>293774</td>\n      <td>6067025</td>\n      <td>Рассмотрена</td>\n      <td>Признана обоснованной</td>\n    </tr>\n    <tr>\n      <th>2</th>\n      <td>314784</td>\n      <td>6830257</td>\n      <td>Рассмотрена</td>\n      <td>Признана обоснованной (частично)</td>\n    </tr>\n    <tr>\n      <th>3</th>\n      <td>308753</td>\n      <td>6830257</td>\n      <td>Рассмотрена</td>\n      <td>Признана обоснованной</td>\n    </tr>\n    <tr>\n      <th>4</th>\n      <td>296341</td>\n      <td>6249813</td>\n      <td>Рассмотрена</td>\n      <td>Признана необоснованной</td>\n    </tr>\n    <tr>\n      <th>5</th>\n      <td>310814</td>\n      <td>6667339</td>\n      <td>Отказано в рассмотрении</td>\n      <td>NaN</td>\n    </tr>\n    <tr>\n      <th>6</th>\n      <td>260944</td>\n      <td>4772414</td>\n      <td>Рассмотрена</td>\n      <td>Признана необоснованной</td>\n    </tr>\n    <tr>\n      <th>7</th>\n      <td>259639</td>\n      <td>4772414</td>\n      <td>Рассмотрена</td>\n      <td>Признана обоснованной</td>\n    </tr>\n    <tr>\n      <th>8</th>\n      <td>312984</td>\n      <td>6641138</td>\n      <td>Рассмотрена</td>\n      <td>Признана обоснованной</td>\n    </tr>\n    <tr>\n      <th>9</th>\n      <td>295077</td>\n      <td>6641138</td>\n      <td>Рассмотрена</td>\n      <td>Признана обоснованной (частично)</td>\n    </tr>\n    <tr>\n      <th>10</th>\n      <td>288515</td>\n      <td>6641138</td>\n      <td>Рассмотрена</td>\n      <td>Признана обоснованной</td>\n    </tr>\n    <tr>\n      <th>11</th>\n      <td>276113</td>\n      <td>5496717</td>\n      <td>Рассмотрена</td>\n      <td>Признана необоснованной</td>\n    </tr>\n    <tr>\n      <th>12</th>\n      <td>276112</td>\n      <td>5496717</td>\n      <td>Рассмотрена</td>\n      <td>Признана необоснованной</td>\n    </tr>\n    <tr>\n      <th>13</th>\n      <td>276109</td>\n      <td>5496717</td>\n      <td>Рассмотрена</td>\n      <td>Признана необоснованной</td>\n    </tr>\n    <tr>\n      <th>14</th>\n      <td>276106</td>\n      <td>5496717</td>\n      <td>Рассмотрена</td>\n      <td>Признана необоснованной</td>\n    </tr>\n    <tr>\n      <th>15</th>\n      <td>276104</td>\n      <td>5496717</td>\n      <td>Рассмотрена</td>\n      <td>Признана необоснованной</td>\n    </tr>\n    <tr>\n      <th>16</th>\n      <td>274753</td>\n      <td>5496717</td>\n      <td>Рассмотрена</td>\n      <td>Признана обоснованной (частично)</td>\n    </tr>\n    <tr>\n      <th>17</th>\n      <td>274752</td>\n      <td>5496717</td>\n      <td>Рассмотрена</td>\n      <td>Признана обоснованной</td>\n    </tr>\n    <tr>\n      <th>18</th>\n      <td>276099</td>\n      <td>5496717</td>\n      <td>Отозвана</td>\n      <td>NaN</td>\n    </tr>\n    <tr>\n      <th>19</th>\n      <td>276098</td>\n      <td>5496717</td>\n      <td>Отозвана</td>\n      <td>NaN</td>\n    </tr>\n  </tbody>\n</table>\n</div>"
     },
     "execution_count": 9,
     "metadata": {},
     "output_type": "execute_result"
    }
   ],
   "source": [
    "full_data.data['complaint_info'].head(20)"
   ],
   "metadata": {
    "collapsed": false,
    "pycharm": {
     "name": "#%%\n"
    }
   }
  },
  {
   "cell_type": "code",
   "execution_count": 7,
   "outputs": [
    {
     "data": {
      "text/plain": "array(['Рассмотрена', 'Отказано в рассмотрении', 'Отозвана'], dtype=object)"
     },
     "execution_count": 7,
     "metadata": {},
     "output_type": "execute_result"
    }
   ],
   "source": [
    "full_data.data['complaint_info']['status'].unique()"
   ],
   "metadata": {
    "collapsed": false,
    "pycharm": {
     "name": "#%%\n"
    }
   }
  },
  {
   "cell_type": "code",
   "execution_count": 8,
   "outputs": [
    {
     "data": {
      "text/plain": "array(['Признана обоснованной', 'Признана обоснованной (частично)',\n       'Признана необоснованной', nan], dtype=object)"
     },
     "execution_count": 8,
     "metadata": {},
     "output_type": "execute_result"
    }
   ],
   "source": [
    "full_data.data['complaint_info']['processing_result'].unique()"
   ],
   "metadata": {
    "collapsed": false,
    "pycharm": {
     "name": "#%%\n"
    }
   }
  },
  {
   "cell_type": "markdown",
   "source": [
    "## Статистика по победам\n",
    "- количество участий и количество побед"
   ],
   "metadata": {
    "collapsed": false,
    "pycharm": {
     "name": "#%% md\n"
    }
   }
  },
  {
   "cell_type": "code",
   "execution_count": 45,
   "outputs": [
    {
     "data": {
      "text/plain": "     Название поля                                      Описание поля   \n0  participant_inn                                    ИНН поставщика   \\\n1  participant_kpp                                     КПП поставщика   \n2               fz  Федеральный закон, в рамках которого проводили...   \n3    procedure_qty  Количество процедур, в которых поставщик приня...   \n4          win_qty  Количество процедур, в которых поставщик был п...   \n\n                                          Примечание  \n0                                                NaN  \n1                                                NaN  \n2  Допустимые значения:\\n44fz - 44-ФЗ\\n223fz - 22...  \n3                                                NaN  \n4                                                NaN  ",
      "text/html": "<div>\n<style scoped>\n    .dataframe tbody tr th:only-of-type {\n        vertical-align: middle;\n    }\n\n    .dataframe tbody tr th {\n        vertical-align: top;\n    }\n\n    .dataframe thead th {\n        text-align: right;\n    }\n</style>\n<table border=\"1\" class=\"dataframe\">\n  <thead>\n    <tr style=\"text-align: right;\">\n      <th></th>\n      <th>Название поля</th>\n      <th>Описание поля</th>\n      <th>Примечание</th>\n    </tr>\n  </thead>\n  <tbody>\n    <tr>\n      <th>0</th>\n      <td>participant_inn</td>\n      <td>ИНН поставщика</td>\n      <td>NaN</td>\n    </tr>\n    <tr>\n      <th>1</th>\n      <td>participant_kpp</td>\n      <td>КПП поставщика</td>\n      <td>NaN</td>\n    </tr>\n    <tr>\n      <th>2</th>\n      <td>fz</td>\n      <td>Федеральный закон, в рамках которого проводили...</td>\n      <td>Допустимые значения:\\n44fz - 44-ФЗ\\n223fz - 22...</td>\n    </tr>\n    <tr>\n      <th>3</th>\n      <td>procedure_qty</td>\n      <td>Количество процедур, в которых поставщик приня...</td>\n      <td>NaN</td>\n    </tr>\n    <tr>\n      <th>4</th>\n      <td>win_qty</td>\n      <td>Количество процедур, в которых поставщик был п...</td>\n      <td>NaN</td>\n    </tr>\n  </tbody>\n</table>\n</div>"
     },
     "execution_count": 45,
     "metadata": {},
     "output_type": "execute_result"
    }
   ],
   "source": [
    "full_data.desc['participation_statistic']"
   ],
   "metadata": {
    "collapsed": false,
    "pycharm": {
     "name": "#%%\n"
    }
   }
  },
  {
   "cell_type": "code",
   "execution_count": 46,
   "outputs": [
    {
     "data": {
      "text/plain": "        participant_inn  participant_kpp     fz  procedure_qty  win_qty\n0           10100100492              NaN   44fz              4        3\n1           10100150863              NaN   44fz              3        3\n2             101003907       10101001.0  223fz              1        1\n3             101003907       10101001.0   44fz             14       11\n4           10100400827              NaN   44fz              2        1\n...                 ...              ...    ...            ...      ...\n213673       9717054454      771701001.0   44fz              1        1\n213674       9718027407      771801001.0   44fz              1        1\n213675       9729031317      772901001.0   44fz              1        1\n213676       9729184480      772901001.0   44fz              1        1\n213677       9901007255      990101001.0   44fz              1        1\n\n[213678 rows x 5 columns]",
      "text/html": "<div>\n<style scoped>\n    .dataframe tbody tr th:only-of-type {\n        vertical-align: middle;\n    }\n\n    .dataframe tbody tr th {\n        vertical-align: top;\n    }\n\n    .dataframe thead th {\n        text-align: right;\n    }\n</style>\n<table border=\"1\" class=\"dataframe\">\n  <thead>\n    <tr style=\"text-align: right;\">\n      <th></th>\n      <th>participant_inn</th>\n      <th>participant_kpp</th>\n      <th>fz</th>\n      <th>procedure_qty</th>\n      <th>win_qty</th>\n    </tr>\n  </thead>\n  <tbody>\n    <tr>\n      <th>0</th>\n      <td>10100100492</td>\n      <td>NaN</td>\n      <td>44fz</td>\n      <td>4</td>\n      <td>3</td>\n    </tr>\n    <tr>\n      <th>1</th>\n      <td>10100150863</td>\n      <td>NaN</td>\n      <td>44fz</td>\n      <td>3</td>\n      <td>3</td>\n    </tr>\n    <tr>\n      <th>2</th>\n      <td>101003907</td>\n      <td>10101001.0</td>\n      <td>223fz</td>\n      <td>1</td>\n      <td>1</td>\n    </tr>\n    <tr>\n      <th>3</th>\n      <td>101003907</td>\n      <td>10101001.0</td>\n      <td>44fz</td>\n      <td>14</td>\n      <td>11</td>\n    </tr>\n    <tr>\n      <th>4</th>\n      <td>10100400827</td>\n      <td>NaN</td>\n      <td>44fz</td>\n      <td>2</td>\n      <td>1</td>\n    </tr>\n    <tr>\n      <th>...</th>\n      <td>...</td>\n      <td>...</td>\n      <td>...</td>\n      <td>...</td>\n      <td>...</td>\n    </tr>\n    <tr>\n      <th>213673</th>\n      <td>9717054454</td>\n      <td>771701001.0</td>\n      <td>44fz</td>\n      <td>1</td>\n      <td>1</td>\n    </tr>\n    <tr>\n      <th>213674</th>\n      <td>9718027407</td>\n      <td>771801001.0</td>\n      <td>44fz</td>\n      <td>1</td>\n      <td>1</td>\n    </tr>\n    <tr>\n      <th>213675</th>\n      <td>9729031317</td>\n      <td>772901001.0</td>\n      <td>44fz</td>\n      <td>1</td>\n      <td>1</td>\n    </tr>\n    <tr>\n      <th>213676</th>\n      <td>9729184480</td>\n      <td>772901001.0</td>\n      <td>44fz</td>\n      <td>1</td>\n      <td>1</td>\n    </tr>\n    <tr>\n      <th>213677</th>\n      <td>9901007255</td>\n      <td>990101001.0</td>\n      <td>44fz</td>\n      <td>1</td>\n      <td>1</td>\n    </tr>\n  </tbody>\n</table>\n<p>213678 rows × 5 columns</p>\n</div>"
     },
     "execution_count": 46,
     "metadata": {},
     "output_type": "execute_result"
    }
   ],
   "source": [
    "full_data.data['participation_statistic']"
   ],
   "metadata": {
    "collapsed": false,
    "pycharm": {
     "name": "#%%\n"
    }
   }
  },
  {
   "cell_type": "markdown",
   "source": [
    "## РНП"
   ],
   "metadata": {
    "collapsed": false,
    "pycharm": {
     "name": "#%% md\n"
    }
   }
  },
  {
   "cell_type": "code",
   "execution_count": 47,
   "outputs": [
    {
     "data": {
      "text/plain": "             Название поля                                      Описание поля   \n0                      inn                   ИНН недобросовестного поставщика  \\\n1                      kpp                   КПП недобросовестного поставщика   \n2  rnp_supplier_reg_number  Реестровый номер поставщика в реестр недобросо...   \n3           include_reason                         Причина для внесения в РНП   \n4             include_date                      Дата включения сведений в РНП   \n5             exclude_date                         Дата для исключения из РНП   \n\n   Примечание  \n0         NaN  \n1         NaN  \n2         NaN  \n3         NaN  \n4         NaN  \n5         NaN  ",
      "text/html": "<div>\n<style scoped>\n    .dataframe tbody tr th:only-of-type {\n        vertical-align: middle;\n    }\n\n    .dataframe tbody tr th {\n        vertical-align: top;\n    }\n\n    .dataframe thead th {\n        text-align: right;\n    }\n</style>\n<table border=\"1\" class=\"dataframe\">\n  <thead>\n    <tr style=\"text-align: right;\">\n      <th></th>\n      <th>Название поля</th>\n      <th>Описание поля</th>\n      <th>Примечание</th>\n    </tr>\n  </thead>\n  <tbody>\n    <tr>\n      <th>0</th>\n      <td>inn</td>\n      <td>ИНН недобросовестного поставщика</td>\n      <td>NaN</td>\n    </tr>\n    <tr>\n      <th>1</th>\n      <td>kpp</td>\n      <td>КПП недобросовестного поставщика</td>\n      <td>NaN</td>\n    </tr>\n    <tr>\n      <th>2</th>\n      <td>rnp_supplier_reg_number</td>\n      <td>Реестровый номер поставщика в реестр недобросо...</td>\n      <td>NaN</td>\n    </tr>\n    <tr>\n      <th>3</th>\n      <td>include_reason</td>\n      <td>Причина для внесения в РНП</td>\n      <td>NaN</td>\n    </tr>\n    <tr>\n      <th>4</th>\n      <td>include_date</td>\n      <td>Дата включения сведений в РНП</td>\n      <td>NaN</td>\n    </tr>\n    <tr>\n      <th>5</th>\n      <td>exclude_date</td>\n      <td>Дата для исключения из РНП</td>\n      <td>NaN</td>\n    </tr>\n  </tbody>\n</table>\n</div>"
     },
     "execution_count": 47,
     "metadata": {},
     "output_type": "execute_result"
    }
   ],
   "source": [
    "full_data.desc['rnp']"
   ],
   "metadata": {
    "collapsed": false,
    "pycharm": {
     "name": "#%%\n"
    }
   }
  },
  {
   "cell_type": "code",
   "execution_count": 50,
   "outputs": [
    {
     "data": {
      "text/plain": "               inn          kpp           rnp_supplier_reg_number   \n0       2339024150  233901001.0  a4992e14542cee37f6cad01c70fa2d9f  \\\n1     246302634710          NaN  59b3d789ee91fdc22d795e4fd3b5d5cc   \n2       2723166932  272301001.0  319528e7ccc8c59993c7442a879964b0   \n3       7207019441          NaN  0d6e9bc4eb0c3f4434d4d51fb0d22794   \n4       3702558056  370201001.0  329aa6bcb5c8475034a30dbecd8ccaad   \n...            ...          ...                               ...   \n5633    7327078953  732701001.0  b0228a3dd778b5ee3adaccb8812881c5   \n5634    4027990659  402701001.0  8ee5554ad21c0f6b072e4dd203bf29fd   \n5635    5401983981  540501001.0  45f52177abefd299e95744e6e7424b4c   \n5636    5753057950          NaN  a40c87bce01799ff6b5931a1828f6f6b   \n5637    4826072630  482601001.0  f351b6b831e5639715b2cb5f118eb361   \n\n                                    include_reason include_date exclude_date  \n0                            Расторжение контракта   2019-02-01   2021-02-01  \n1                            Расторжение контракта   2019-06-21   2021-06-21  \n2     Уклонение победителя от заключения контракта   2017-04-20   2019-04-20  \n3                            Расторжение контракта   2019-12-21   2021-12-04  \n4                            Расторжение контракта   2018-02-01   2020-02-02  \n...                                            ...          ...          ...  \n5633                         Расторжение контракта   2019-11-25   2021-11-25  \n5634  Уклонение победителя от заключения контракта   2015-10-07   2015-10-07  \n5635  Уклонение победителя от заключения контракта   2019-07-28   2021-07-28  \n5636                         Расторжение контракта   2015-02-05   2017-02-06  \n5637  Уклонение победителя от заключения контракта   2014-12-12   2016-12-12  \n\n[5638 rows x 6 columns]",
      "text/html": "<div>\n<style scoped>\n    .dataframe tbody tr th:only-of-type {\n        vertical-align: middle;\n    }\n\n    .dataframe tbody tr th {\n        vertical-align: top;\n    }\n\n    .dataframe thead th {\n        text-align: right;\n    }\n</style>\n<table border=\"1\" class=\"dataframe\">\n  <thead>\n    <tr style=\"text-align: right;\">\n      <th></th>\n      <th>inn</th>\n      <th>kpp</th>\n      <th>rnp_supplier_reg_number</th>\n      <th>include_reason</th>\n      <th>include_date</th>\n      <th>exclude_date</th>\n    </tr>\n  </thead>\n  <tbody>\n    <tr>\n      <th>0</th>\n      <td>2339024150</td>\n      <td>233901001.0</td>\n      <td>a4992e14542cee37f6cad01c70fa2d9f</td>\n      <td>Расторжение контракта</td>\n      <td>2019-02-01</td>\n      <td>2021-02-01</td>\n    </tr>\n    <tr>\n      <th>1</th>\n      <td>246302634710</td>\n      <td>NaN</td>\n      <td>59b3d789ee91fdc22d795e4fd3b5d5cc</td>\n      <td>Расторжение контракта</td>\n      <td>2019-06-21</td>\n      <td>2021-06-21</td>\n    </tr>\n    <tr>\n      <th>2</th>\n      <td>2723166932</td>\n      <td>272301001.0</td>\n      <td>319528e7ccc8c59993c7442a879964b0</td>\n      <td>Уклонение победителя от заключения контракта</td>\n      <td>2017-04-20</td>\n      <td>2019-04-20</td>\n    </tr>\n    <tr>\n      <th>3</th>\n      <td>7207019441</td>\n      <td>NaN</td>\n      <td>0d6e9bc4eb0c3f4434d4d51fb0d22794</td>\n      <td>Расторжение контракта</td>\n      <td>2019-12-21</td>\n      <td>2021-12-04</td>\n    </tr>\n    <tr>\n      <th>4</th>\n      <td>3702558056</td>\n      <td>370201001.0</td>\n      <td>329aa6bcb5c8475034a30dbecd8ccaad</td>\n      <td>Расторжение контракта</td>\n      <td>2018-02-01</td>\n      <td>2020-02-02</td>\n    </tr>\n    <tr>\n      <th>...</th>\n      <td>...</td>\n      <td>...</td>\n      <td>...</td>\n      <td>...</td>\n      <td>...</td>\n      <td>...</td>\n    </tr>\n    <tr>\n      <th>5633</th>\n      <td>7327078953</td>\n      <td>732701001.0</td>\n      <td>b0228a3dd778b5ee3adaccb8812881c5</td>\n      <td>Расторжение контракта</td>\n      <td>2019-11-25</td>\n      <td>2021-11-25</td>\n    </tr>\n    <tr>\n      <th>5634</th>\n      <td>4027990659</td>\n      <td>402701001.0</td>\n      <td>8ee5554ad21c0f6b072e4dd203bf29fd</td>\n      <td>Уклонение победителя от заключения контракта</td>\n      <td>2015-10-07</td>\n      <td>2015-10-07</td>\n    </tr>\n    <tr>\n      <th>5635</th>\n      <td>5401983981</td>\n      <td>540501001.0</td>\n      <td>45f52177abefd299e95744e6e7424b4c</td>\n      <td>Уклонение победителя от заключения контракта</td>\n      <td>2019-07-28</td>\n      <td>2021-07-28</td>\n    </tr>\n    <tr>\n      <th>5636</th>\n      <td>5753057950</td>\n      <td>NaN</td>\n      <td>a40c87bce01799ff6b5931a1828f6f6b</td>\n      <td>Расторжение контракта</td>\n      <td>2015-02-05</td>\n      <td>2017-02-06</td>\n    </tr>\n    <tr>\n      <th>5637</th>\n      <td>4826072630</td>\n      <td>482601001.0</td>\n      <td>f351b6b831e5639715b2cb5f118eb361</td>\n      <td>Уклонение победителя от заключения контракта</td>\n      <td>2014-12-12</td>\n      <td>2016-12-12</td>\n    </tr>\n  </tbody>\n</table>\n<p>5638 rows × 6 columns</p>\n</div>"
     },
     "execution_count": 50,
     "metadata": {},
     "output_type": "execute_result"
    }
   ],
   "source": [
    "full_data.data['rnp']"
   ],
   "metadata": {
    "collapsed": false,
    "pycharm": {
     "name": "#%%\n"
    }
   }
  },
  {
   "cell_type": "code",
   "execution_count": 52,
   "outputs": [
    {
     "data": {
      "text/plain": "array(['Расторжение контракта',\n       'Уклонение победителя от заключения контракта',\n       'Уклонение единственного участника от заключения контракта',\n       'Уклонение участника размещения заказа от заключения контракта, в случае, когда победитель уклонился от заключения контракта',\n       'Расторжение договора в случае одностороннего отказа заказчика от исполнения договора в связи с существенным нарушением участниками электронных аукционов условий таких договоров',\n       'Уклонение победителя от заключения договора',\n       'Уклонение единственного участника от заключения договора'],\n      dtype=object)"
     },
     "execution_count": 52,
     "metadata": {},
     "output_type": "execute_result"
    }
   ],
   "source": [
    "full_data.data['rnp']['include_reason'].unique()  # дублируются. Со значениями \"договор\" и \"контракт\""
   ],
   "metadata": {
    "collapsed": false,
    "pycharm": {
     "name": "#%%\n"
    }
   }
  },
  {
   "cell_type": "markdown",
   "source": [
    "## Тест"
   ],
   "metadata": {
    "collapsed": false,
    "pycharm": {
     "name": "#%% md\n"
    }
   }
  },
  {
   "cell_type": "code",
   "execution_count": 1,
   "outputs": [
    {
     "name": "stderr",
     "output_type": "stream",
     "text": [
      "100%|██████████| 26/26 [00:21<00:00,  1.23it/s]\n"
     ]
    }
   ],
   "source": [
    "from base import DataObj\n",
    "\n",
    "full_data = DataObj('data')"
   ],
   "metadata": {
    "collapsed": false,
    "pycharm": {
     "name": "#%%\n"
    }
   }
  },
  {
   "cell_type": "code",
   "execution_count": 2,
   "outputs": [
    {
     "data": {
      "text/plain": "            as_customer | Признана обоснованной   \ninn                                               \n5908078473                                    0  \\\n\n            as_customer | Признана обоснованной (частично)   \ninn                                                          \n5908078473                                               0  \\\n\n            as_customer | Признана необоснованной   \ninn                                                 \n5908078473                                      0  \\\n\n            as_customer | Отказано в рассмотрении  as_customer | Отозвана   \ninn                                                                         \n5908078473                                      0                       0  \\\n\n            as_customer | Всего жалоб  as_supplier | Признана обоснованной   \ninn                                                                          \n5908078473                          0                                    1  \\\n\n            as_supplier | Признана обоснованной (частично)   \ninn                                                          \n5908078473                                               0  \\\n\n            as_supplier | Признана необоснованной   \ninn                                                 \n5908078473                                      0  \\\n\n            as_supplier | Отказано в рассмотрении  as_supplier | Отозвана   \ninn                                                                         \n5908078473                                      0                       0  \\\n\n            as_supplier | Всего жалоб  \ninn                                    \n5908078473                          1  ",
      "text/html": "<div>\n<style scoped>\n    .dataframe tbody tr th:only-of-type {\n        vertical-align: middle;\n    }\n\n    .dataframe tbody tr th {\n        vertical-align: top;\n    }\n\n    .dataframe thead th {\n        text-align: right;\n    }\n</style>\n<table border=\"1\" class=\"dataframe\">\n  <thead>\n    <tr style=\"text-align: right;\">\n      <th></th>\n      <th>as_customer | Признана обоснованной</th>\n      <th>as_customer | Признана обоснованной (частично)</th>\n      <th>as_customer | Признана необоснованной</th>\n      <th>as_customer | Отказано в рассмотрении</th>\n      <th>as_customer | Отозвана</th>\n      <th>as_customer | Всего жалоб</th>\n      <th>as_supplier | Признана обоснованной</th>\n      <th>as_supplier | Признана обоснованной (частично)</th>\n      <th>as_supplier | Признана необоснованной</th>\n      <th>as_supplier | Отказано в рассмотрении</th>\n      <th>as_supplier | Отозвана</th>\n      <th>as_supplier | Всего жалоб</th>\n    </tr>\n    <tr>\n      <th>inn</th>\n      <th></th>\n      <th></th>\n      <th></th>\n      <th></th>\n      <th></th>\n      <th></th>\n      <th></th>\n      <th></th>\n      <th></th>\n      <th></th>\n      <th></th>\n      <th></th>\n    </tr>\n  </thead>\n  <tbody>\n    <tr>\n      <th>5908078473</th>\n      <td>0</td>\n      <td>0</td>\n      <td>0</td>\n      <td>0</td>\n      <td>0</td>\n      <td>0</td>\n      <td>1</td>\n      <td>0</td>\n      <td>0</td>\n      <td>0</td>\n      <td>0</td>\n      <td>1</td>\n    </tr>\n  </tbody>\n</table>\n</div>"
     },
     "execution_count": 2,
     "metadata": {},
     "output_type": "execute_result"
    }
   ],
   "source": [
    "from processing.complaints import get_numbers_of_complaints\n",
    "\n",
    "result = get_numbers_of_complaints(full_data, inn=5908078473, get_row=True)\n",
    "result.head()"
   ],
   "metadata": {
    "collapsed": false,
    "pycharm": {
     "name": "#%%\n"
    }
   }
  },
  {
   "cell_type": "code",
   "execution_count": null,
   "outputs": [],
   "source": [],
   "metadata": {
    "collapsed": false,
    "pycharm": {
     "name": "#%%\n"
    }
   }
  }
 ],
 "metadata": {
  "kernelspec": {
   "display_name": "Python 3",
   "language": "python",
   "name": "python3"
  },
  "language_info": {
   "codemirror_mode": {
    "name": "ipython",
    "version": 2
   },
   "file_extension": ".py",
   "mimetype": "text/x-python",
   "name": "python",
   "nbconvert_exporter": "python",
   "pygments_lexer": "ipython2",
   "version": "2.7.6"
  }
 },
 "nbformat": 4,
 "nbformat_minor": 0
}